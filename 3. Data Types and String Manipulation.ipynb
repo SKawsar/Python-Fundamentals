{
  "nbformat": 4,
  "nbformat_minor": 0,
  "metadata": {
    "colab": {
      "name": "Lecture_3.ipynb",
      "provenance": [],
      "collapsed_sections": [],
      "include_colab_link": true
    },
    "kernelspec": {
      "name": "python3",
      "display_name": "Python 3"
    },
    "language_info": {
      "name": "python"
    }
  },
  "cells": [
    {
      "cell_type": "markdown",
      "metadata": {
        "id": "view-in-github",
        "colab_type": "text"
      },
      "source": [
        "<a href=\"https://colab.research.google.com/github/SKawsar/Python_Fundamentals_s2/blob/main/Lecture_3.ipynb\" target=\"_parent\"><img src=\"https://colab.research.google.com/assets/colab-badge.svg\" alt=\"Open In Colab\"/></a>"
      ]
    },
    {
      "cell_type": "markdown",
      "source": [
        "# Lecture 03: Python Data Types and String Manipulation\n",
        "Instructor:\n",
        "Md Shahidullah Kawsar,\n",
        "Data Scientist, IDARE, Houston, TX, USA\n",
        "\n",
        "#### Objectives:\n",
        "1. Learn about Python data types, Mathematical Operations, Comparison Operators, Logical Operators, and Membership Operators\n",
        "2. Learn string manipulation\n",
        "\n",
        "#### References:\n",
        "1. Python - Basic Operators: https://www.tutorialspoint.com/python/python_basic_operators.html\n"
      ],
      "metadata": {
        "id": "RPo9iWFO2nEn"
      }
    },
    {
      "cell_type": "markdown",
      "source": [
        "**str** : string, text\n",
        "<br>**int** : inetger numbers\n",
        "<br>**float** : real numbers, decimal values\n",
        "<br>**bool** : True, False"
      ],
      "metadata": {
        "id": "pbtfPN7o3NxN"
      }
    },
    {
      "cell_type": "code",
      "source": [
        "name = \"Lionel Andres Messi\"\n",
        "birth_year = 1987\n",
        "height = 5.6\n",
        "is_he_a_goat = True\n",
        "\n",
        "print(\"Player name : \", name)\n",
        "print(type(name))\n",
        "\n",
        "print(\"Birth Year : \", birth_year)\n",
        "print(type(birth_year))\n",
        "\n",
        "print(\"Height : \", height)\n",
        "print(type(height))\n",
        "\n",
        "print(\"Is he the greatest of all time? \", is_he_a_goat)\n",
        "print(type(is_he_a_goat))"
      ],
      "metadata": {
        "id": "tYkP-3Ak3SVx",
        "outputId": "4cf97e30-c1c4-4d94-b3ad-65697f2df18f",
        "colab": {
          "base_uri": "https://localhost:8080/"
        }
      },
      "execution_count": null,
      "outputs": [
        {
          "output_type": "stream",
          "name": "stdout",
          "text": [
            "Player name :  Lionel Andres Messi\n",
            "<class 'str'>\n",
            "Birth Year :  1987\n",
            "<class 'int'>\n",
            "Height :  5.6\n",
            "<class 'float'>\n",
            "Is he the greatest of all time?  True\n",
            "<class 'bool'>\n"
          ]
        }
      ]
    },
    {
      "cell_type": "markdown",
      "source": [
        "#### Mathematical Operations"
      ],
      "metadata": {
        "id": "VXFfTU4z3pIV"
      }
    },
    {
      "cell_type": "code",
      "source": [
        "a = 2 #integer\n",
        "b = 3 #integer \n",
        "\n",
        "# Addition\n",
        "print(\"a+b = \", a+b) \n",
        "\n",
        "# Multiplication\n",
        "print(\"a*b = \", a*b) \n",
        "\n",
        "# Subtraction\n",
        "print(\"a-b = \", a-b) \n",
        "\n",
        "# Modulus: Divides left hand operand by right hand operand and returns remainder\n",
        "print(\"a%b = \", a%b) \n",
        "\n",
        "# Division\n",
        "print(\"a/b = \", a/b)\n",
        "\n",
        "# Floor Division - The division of operands \n",
        "# where the result is the quotient in which \n",
        "# the digits after the decimal point are removed. \n",
        "# But if one of the operands is negative, the result is floored, \n",
        "# i.e., rounded away from zero (towards negative infinity)\n",
        "print(\"a//b = \", a//b) \n",
        "\n",
        "# Exponent: Performs exponential (power) calculation on operators\n",
        "print(\"a**b = \", a**b) "
      ],
      "metadata": {
        "id": "sHlbJ7zq3rPX",
        "outputId": "438e09f1-c69b-486d-8253-56a6d171c125",
        "colab": {
          "base_uri": "https://localhost:8080/"
        }
      },
      "execution_count": null,
      "outputs": [
        {
          "output_type": "stream",
          "name": "stdout",
          "text": [
            "a+b =  5\n",
            "a*b =  6\n",
            "a-b =  -1\n",
            "a%b =  2\n",
            "a/b =  0.6666666666666666\n",
            "a//b =  0\n",
            "a**b =  8\n"
          ]
        }
      ]
    },
    {
      "cell_type": "code",
      "source": [
        "b = 2\n",
        "c = 3\n",
        "d = 4\n",
        "\n",
        "print(b*c-d)\n",
        "print(b-c*d)\n",
        "# definitely multiplication will occur first. To avoid confusion, please use brackets such as b - (c*d). Make it readable."
      ],
      "metadata": {
        "id": "nfskvY7vRGH6",
        "outputId": "67f276fd-10b8-433b-b952-dccd7a57913a",
        "colab": {
          "base_uri": "https://localhost:8080/"
        }
      },
      "execution_count": null,
      "outputs": [
        {
          "output_type": "stream",
          "name": "stdout",
          "text": [
            "2\n",
            "-10\n"
          ]
        }
      ]
    },
    {
      "cell_type": "markdown",
      "source": [
        "#### Comparison Operators"
      ],
      "metadata": {
        "id": "JqykIP3X3sPO"
      }
    },
    {
      "cell_type": "code",
      "source": [
        "a = -1\n",
        "b = 1\n",
        "\n",
        "print(\"a == b : \", a == b)\n",
        "print(\"a != b : \", a != b)\n",
        "print(\"a >= b : \", a >= b)\n",
        "print(\"a <= b : \", a <= b)\n",
        "print(\"a > b  : \", a > b)\n",
        "print(\"a < b  : \", a < b)"
      ],
      "metadata": {
        "id": "DCKnf-s43vUe",
        "outputId": "5441d249-304f-4671-fc71-6c5a020a67a7",
        "colab": {
          "base_uri": "https://localhost:8080/"
        }
      },
      "execution_count": null,
      "outputs": [
        {
          "output_type": "stream",
          "name": "stdout",
          "text": [
            "a == b :  False\n",
            "a != b :  True\n",
            "a >= b :  False\n",
            "a <= b :  True\n",
            "a > b  :  False\n",
            "a < b  :  True\n"
          ]
        }
      ]
    },
    {
      "cell_type": "markdown",
      "source": [
        "#### Logical operators"
      ],
      "metadata": {
        "id": "Ir6PPHIm3wF6"
      }
    },
    {
      "cell_type": "code",
      "source": [
        "# and, or\n",
        "\n",
        "# ang logic\n",
        "print(True and True) # 1 and 1\n",
        "print(True and False) # 1 and 0\n",
        "print(False and True) # 0 and 1\n",
        "print(False and False) # 0 and 0\n",
        "\n",
        "# or logic\n",
        "print(True or True) # 1 or 1\n",
        "print(True or False) # 1 or 0\n",
        "print(False or True) # 0 or 1\n",
        "print(False or False) # 0 or 0"
      ],
      "metadata": {
        "id": "2E0-Cuih31yh",
        "outputId": "b77e0f4b-c2f2-4081-eae7-fe752cb76358",
        "colab": {
          "base_uri": "https://localhost:8080/"
        }
      },
      "execution_count": null,
      "outputs": [
        {
          "output_type": "stream",
          "name": "stdout",
          "text": [
            "True\n",
            "False\n",
            "False\n",
            "False\n",
            "True\n",
            "True\n",
            "True\n",
            "False\n"
          ]
        }
      ]
    },
    {
      "cell_type": "code",
      "source": [
        "a = 1\n",
        "b = 1\n",
        "c = 2\n",
        "d = 2\n",
        "\n",
        "print(\"a == b and c == d : \", a == b and c == d)\n",
        "print(\"a == b or c == d : \", a == b or c == d)\n",
        "print(\"not c == d : \", not c == d)"
      ],
      "metadata": {
        "id": "peZcS5VHMTP3",
        "outputId": "48f6f21a-d30d-456d-c25d-4c77393cf4f6",
        "colab": {
          "base_uri": "https://localhost:8080/"
        }
      },
      "execution_count": null,
      "outputs": [
        {
          "output_type": "stream",
          "name": "stdout",
          "text": [
            "a == b and c == d :  True\n",
            "a == b or c == d :  True\n",
            "not c == d :  False\n"
          ]
        }
      ]
    },
    {
      "cell_type": "markdown",
      "source": [
        "#### Membership operators"
      ],
      "metadata": {
        "id": "PT3epyIy32N3"
      }
    },
    {
      "cell_type": "code",
      "source": [
        "a = \"abul\"\n",
        "b = \"babul\"\n",
        "\n",
        "print(\"a in b : \", a in b)\n",
        "print(\"b not in a : \", b not in a)"
      ],
      "metadata": {
        "id": "Qnc3tGJQ36S1",
        "outputId": "9aad8277-ce71-4614-930f-44e5ddfbeac1",
        "colab": {
          "base_uri": "https://localhost:8080/"
        }
      },
      "execution_count": null,
      "outputs": [
        {
          "output_type": "stream",
          "name": "stdout",
          "text": [
            "a in b :  True\n",
            "b not in a :  True\n"
          ]
        }
      ]
    },
    {
      "cell_type": "markdown",
      "source": [
        "#### String Manipulation\n",
        "- How to capitalize the first character of a string?"
      ],
      "metadata": {
        "id": "KOp4aqNez1YL"
      }
    },
    {
      "cell_type": "code",
      "source": [
        "name = \"ronaldo\"\n",
        "updated_name = name.capitalize()\n",
        "\n",
        "print(updated_name)"
      ],
      "metadata": {
        "id": "N3JF3EVHzxqz",
        "outputId": "a5fddff7-2799-474a-d547-75c1e131bfe7",
        "colab": {
          "base_uri": "https://localhost:8080/"
        }
      },
      "execution_count": null,
      "outputs": [
        {
          "output_type": "stream",
          "name": "stdout",
          "text": [
            "Ronaldo\n"
          ]
        }
      ]
    },
    {
      "cell_type": "markdown",
      "source": [
        "- How to find the frequency of the substring in a string?"
      ],
      "metadata": {
        "id": "gYcrwKZW0iu8"
      }
    },
    {
      "cell_type": "code",
      "source": [
        "name_count = name.count(\"o\")\n",
        "print(name_count)"
      ],
      "metadata": {
        "id": "t0wn6ZNRzxxP",
        "outputId": "979e149d-89de-4c62-b158-d82185614ef7",
        "colab": {
          "base_uri": "https://localhost:8080/"
        }
      },
      "execution_count": null,
      "outputs": [
        {
          "output_type": "stream",
          "name": "stdout",
          "text": [
            "2\n"
          ]
        }
      ]
    },
    {
      "cell_type": "markdown",
      "source": [
        "\n",
        "- How to find if a string starts or ends with a specific substring?"
      ],
      "metadata": {
        "id": "Q2STTCkO0k-L"
      }
    },
    {
      "cell_type": "code",
      "source": [
        "name_startswith = name.startswith(\"o\")\n",
        "print(name_startswith)\n",
        "\n",
        "name_endswith = name.endswith(\"o\")\n",
        "print(name_endswith)"
      ],
      "metadata": {
        "id": "_WnxOORvzyKE",
        "outputId": "5da29e0b-8d30-45e8-e7ef-949039041128",
        "colab": {
          "base_uri": "https://localhost:8080/"
        }
      },
      "execution_count": null,
      "outputs": [
        {
          "output_type": "stream",
          "name": "stdout",
          "text": [
            "False\n",
            "True\n"
          ]
        }
      ]
    },
    {
      "cell_type": "markdown",
      "source": [
        "#### String slicing"
      ],
      "metadata": {
        "id": "OYnKrQBh0dIY"
      }
    },
    {
      "cell_type": "code",
      "source": [
        "# python is a 0-indexed based programming language\n",
        "# the index of the last character = len(var) -1\n",
        "# the last index in a range is always exclusive\n",
        "var = \"I love Bangladesh\"\n",
        "\n",
        "print(\"length of var = \", len(var))\n",
        "\n",
        "print(var)\n",
        "print(var[0])\n",
        "print(var[7])\n",
        "print(var[16])\n",
        "print(var[-1])\n",
        "print(var[-5])\n",
        "\n",
        "print(var[2:6])\n",
        "print(var[2:])\n",
        "print(var[7:17])\n",
        "print(var[7:])\n",
        "\n",
        "print(var[0:6])\n",
        "print(var[:6])\n",
        "\n",
        "print(var[-10:])"
      ],
      "metadata": {
        "id": "FQMGLSnQ0et8",
        "outputId": "a4af1ee5-eeb5-4709-e18b-7618c6f9f0c4",
        "colab": {
          "base_uri": "https://localhost:8080/"
        }
      },
      "execution_count": null,
      "outputs": [
        {
          "output_type": "stream",
          "name": "stdout",
          "text": [
            "length of var =  17\n",
            "I love Bangladesh\n",
            "I\n",
            "B\n",
            "h\n",
            "h\n",
            "a\n",
            "love\n",
            "love Bangladesh\n",
            "Bangladesh\n",
            "Bangladesh\n",
            "I love\n",
            "I love\n",
            "Bangladesh\n"
          ]
        }
      ]
    },
    {
      "cell_type": "markdown",
      "source": [
        "\n",
        "- How to find the index of a specific character in a string?"
      ],
      "metadata": {
        "id": "N1ko6f9u0qXA"
      }
    },
    {
      "cell_type": "code",
      "source": [
        "text = \"Happy New Year\"\n",
        "\n",
        "print(text.find(\"p\"))\n",
        "print(text.index(\"a\"))"
      ],
      "metadata": {
        "id": "F2jQZws9zyNF",
        "outputId": "7081cfcf-3f09-4380-d581-44dd2b8a0fed",
        "colab": {
          "base_uri": "https://localhost:8080/"
        }
      },
      "execution_count": 5,
      "outputs": [
        {
          "output_type": "stream",
          "name": "stdout",
          "text": [
            "2\n",
            "1\n"
          ]
        }
      ]
    },
    {
      "cell_type": "markdown",
      "source": [
        "\n",
        "- How to convert a string into lower case and upper case characters?\n"
      ],
      "metadata": {
        "id": "VWIn_WJp0s0R"
      }
    },
    {
      "cell_type": "code",
      "source": [
        "name = \"ShakibAlHasan\"\n",
        "\n",
        "print(name.lower())\n",
        "print(name.upper())"
      ],
      "metadata": {
        "id": "5GY9xut-zyRD",
        "outputId": "c5e1d3f0-2f6d-4e83-d289-cc7ea2a9e939",
        "colab": {
          "base_uri": "https://localhost:8080/"
        }
      },
      "execution_count": 7,
      "outputs": [
        {
          "output_type": "stream",
          "name": "stdout",
          "text": [
            "shakibalhasan\n",
            "SHAKIBALHASAN\n"
          ]
        }
      ]
    },
    {
      "cell_type": "code",
      "source": [
        "print(\"electrical engineering\" == \"Electrical Engineering\".lower())\n",
        "print(\"electrical engineering \".rstrip() == \"Electrical Engineering\".lower())\n",
        "print(\"   electrical engineering\".lstrip() == \"Electrical Engineering\".lower())"
      ],
      "metadata": {
        "id": "lFydnuj-5fcE",
        "outputId": "14bc5862-fc41-40ee-8a88-a77c09752ea8",
        "colab": {
          "base_uri": "https://localhost:8080/"
        }
      },
      "execution_count": 15,
      "outputs": [
        {
          "output_type": "stream",
          "name": "stdout",
          "text": [
            "True\n",
            "True\n",
            "True\n"
          ]
        }
      ]
    },
    {
      "cell_type": "markdown",
      "source": [
        "I eat rice.\n",
        "Eating rice regulary is not a good habit.\n",
        "\n",
        "eat, ate, eaten => eat\n",
        "\n",
        "Electrical Engineering "
      ],
      "metadata": {
        "id": "2Ss7uG8X5fxE"
      }
    },
    {
      "cell_type": "markdown",
      "source": [
        "\n",
        "- How to remove spaces from a string?"
      ],
      "metadata": {
        "id": "OoyvIzgX0xgK"
      }
    },
    {
      "cell_type": "code",
      "source": [
        "# see lecture 4"
      ],
      "metadata": {
        "id": "oRxmJdYqzyTo"
      },
      "execution_count": null,
      "outputs": []
    },
    {
      "cell_type": "markdown",
      "source": [
        "\n",
        "- How to replace a substring inside a string?\n"
      ],
      "metadata": {
        "id": "2nv15dSl0z1B"
      }
    },
    {
      "cell_type": "code",
      "source": [
        "text = \"Electrical Enginering\"\n",
        "\n",
        "print(text.replace(\"Enginering\", \"Engineering\"))"
      ],
      "metadata": {
        "id": "685H-nkkzyV8",
        "outputId": "021855bf-08df-4942-dc03-12393d0f4f46",
        "colab": {
          "base_uri": "https://localhost:8080/"
        }
      },
      "execution_count": 19,
      "outputs": [
        {
          "output_type": "stream",
          "name": "stdout",
          "text": [
            "Electrical Engineering\n"
          ]
        }
      ]
    },
    {
      "cell_type": "code",
      "source": [
        "text = \"electrical enginering\"\n",
        "print(text.capitalize())"
      ],
      "metadata": {
        "id": "KSYefQlK8l6L",
        "outputId": "1d0a425a-690d-4e0f-a748-e2f1bb4b7bd3",
        "colab": {
          "base_uri": "https://localhost:8080/"
        }
      },
      "execution_count": 21,
      "outputs": [
        {
          "output_type": "stream",
          "name": "stdout",
          "text": [
            "Electrical enginering\n"
          ]
        }
      ]
    },
    {
      "cell_type": "markdown",
      "source": [
        "- How to find the presence of an alphanumeric character, alphabet or digit?"
      ],
      "metadata": {
        "id": "PRL4pSo402h9"
      }
    },
    {
      "cell_type": "code",
      "source": [
        "name = \"shakibalhasan\"\n",
        "\n",
        "print(name.isalnum())\n",
        "print(name.isdigit())\n",
        "print(name.isalpha())\n",
        "print(name.isupper())\n",
        "print(name.islower())"
      ],
      "metadata": {
        "id": "8qsLA0ee04oR",
        "outputId": "5a965dfd-4cb7-498f-e040-98a5b034048e",
        "colab": {
          "base_uri": "https://localhost:8080/"
        }
      },
      "execution_count": 31,
      "outputs": [
        {
          "output_type": "stream",
          "name": "stdout",
          "text": [
            "True\n",
            "False\n",
            "True\n",
            "False\n",
            "True\n"
          ]
        }
      ]
    },
    {
      "cell_type": "code",
      "source": [
        ""
      ],
      "metadata": {
        "id": "uuTKBjAFU2Ob"
      },
      "execution_count": null,
      "outputs": []
    }
  ]
}
