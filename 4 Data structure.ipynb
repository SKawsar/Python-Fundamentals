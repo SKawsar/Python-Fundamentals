{
 "cells": [
  {
   "cell_type": "markdown",
   "metadata": {},
   "source": [
    "# Lecture 04: Python data structure\n",
    "\n",
    "Instructor:\n",
    "<br>**Md Shahidullah Kawsar**\n",
    "<br>Data Scientist\n",
    "<br>IDARE, Houston, TX, USA\n",
    "\n",
    "#### Objectives:\n",
    "- Python Data Structure: List, tuple, dictionary, set\n",
    "\n",
    "#### References: \n",
    "1. List vs Tuple: Difference Between List and Tuple: https://www.upgrad.com/blog/list-vs-tuple/"
   ]
  },
  {
   "cell_type": "markdown",
   "metadata": {},
   "source": [
    "#### List Slicing"
   ]
  },
  {
   "cell_type": "code",
   "execution_count": 1,
   "metadata": {},
   "outputs": [
    {
     "name": "stdout",
     "output_type": "stream",
     "text": [
      "[['abul', 'babul', 'cabul', 'dabul'], [1111, 2222, 3333, 4444]]\n",
      "['abul', 'babul', 'cabul', 'dabul']\n",
      "[1111, 2222, 3333, 4444]\n",
      "abul\n",
      "1111\n"
     ]
    }
   ],
   "source": [
    "name = [\"abul\", \"babul\", \"cabul\", \"dabul\"]\n",
    "contact = [1111, 2222, 3333, 4444]\n",
    "\n",
    "phone_contacts = [name, contact]\n",
    "print(phone_contacts)\n",
    "\n",
    "print(phone_contacts[0])\n",
    "print(phone_contacts[1])\n",
    "print(phone_contacts[0][0])\n",
    "print(phone_contacts[1][0])"
   ]
  },
  {
   "cell_type": "markdown",
   "metadata": {},
   "source": [
    "#### Checking length of a string"
   ]
  },
  {
   "cell_type": "code",
   "execution_count": 2,
   "metadata": {},
   "outputs": [
    {
     "name": "stdout",
     "output_type": "stream",
     "text": [
      "2\n",
      "4\n",
      "4\n",
      "5\n"
     ]
    }
   ],
   "source": [
    "print(len(phone_contacts))\n",
    "print(len(phone_contacts[0]))\n",
    "print(len(phone_contacts[1]))\n",
    "print(len(phone_contacts[0][1]))"
   ]
  },
  {
   "cell_type": "markdown",
   "metadata": {},
   "source": [
    "#### Checking the presence of an element in a list"
   ]
  },
  {
   "cell_type": "code",
   "execution_count": 3,
   "metadata": {},
   "outputs": [
    {
     "data": {
      "text/plain": [
       "True"
      ]
     },
     "execution_count": 3,
     "metadata": {},
     "output_type": "execute_result"
    }
   ],
   "source": [
    "\"abul\" not in phone_contacts"
   ]
  },
  {
   "cell_type": "markdown",
   "metadata": {},
   "source": [
    "#### Insert a new element in the list"
   ]
  },
  {
   "cell_type": "code",
   "execution_count": 4,
   "metadata": {},
   "outputs": [
    {
     "name": "stdout",
     "output_type": "stream",
     "text": [
      "[2, 4, 0, 6, 8, 10]\n"
     ]
    }
   ],
   "source": [
    "even = [2, 4, 6, 8, 10]\n",
    "even.insert(2, 0)\n",
    "print(even)"
   ]
  },
  {
   "cell_type": "code",
   "execution_count": 5,
   "metadata": {},
   "outputs": [
    {
     "name": "stdout",
     "output_type": "stream",
     "text": [
      "[2, 4, 0, 6, 8, 10, 12]\n"
     ]
    }
   ],
   "source": [
    "even.append(12)\n",
    "\n",
    "print(even)"
   ]
  },
  {
   "cell_type": "markdown",
   "metadata": {},
   "source": [
    "#### How to reverse a list?"
   ]
  },
  {
   "cell_type": "code",
   "execution_count": 6,
   "metadata": {},
   "outputs": [
    {
     "name": "stdout",
     "output_type": "stream",
     "text": [
      "[7, 8, 4, -9, 9, 3, -1, -1, 0]\n"
     ]
    }
   ],
   "source": [
    "nums = [0,-1,-1,3,9,-9,4,8,7]\n",
    "nums.reverse()\n",
    "print(nums)"
   ]
  },
  {
   "cell_type": "markdown",
   "metadata": {},
   "source": [
    "#### How to count the frequency of a specific element in a list?"
   ]
  },
  {
   "cell_type": "code",
   "execution_count": 7,
   "metadata": {},
   "outputs": [
    {
     "name": "stdout",
     "output_type": "stream",
     "text": [
      "2\n"
     ]
    }
   ],
   "source": [
    "print(nums.count(-1))"
   ]
  },
  {
   "cell_type": "markdown",
   "metadata": {},
   "source": [
    "#### How to remove an element from a list?"
   ]
  },
  {
   "cell_type": "code",
   "execution_count": 8,
   "metadata": {},
   "outputs": [
    {
     "name": "stdout",
     "output_type": "stream",
     "text": [
      "[7, 8, 4, -9, 3, -1, -1, 0]\n"
     ]
    }
   ],
   "source": [
    "nums.remove(9)\n",
    "print(nums)"
   ]
  },
  {
   "cell_type": "markdown",
   "metadata": {},
   "source": [
    "#### How to find the minimum value, maximum value and total sum of a list?"
   ]
  },
  {
   "cell_type": "code",
   "execution_count": 9,
   "metadata": {},
   "outputs": [
    {
     "name": "stdout",
     "output_type": "stream",
     "text": [
      "maximum value =  8\n",
      "minimum value =  -9\n",
      "total sum =  11\n"
     ]
    }
   ],
   "source": [
    "print(\"maximum value = \", max(nums))\n",
    "print(\"minimum value = \", min(nums))\n",
    "print(\"total sum = \", sum(nums))"
   ]
  },
  {
   "cell_type": "markdown",
   "metadata": {},
   "source": [
    "#### What will happen if you add two lists?"
   ]
  },
  {
   "cell_type": "code",
   "execution_count": 10,
   "metadata": {},
   "outputs": [
    {
     "name": "stdout",
     "output_type": "stream",
     "text": [
      "A + B =  [9, 8, 7, 6, 99, 88, 77, 66]\n"
     ]
    }
   ],
   "source": [
    "A = [9, 8, 7, 6]\n",
    "B = [99, 88, 77, 66]\n",
    "print(\"A + B = \", A + B) #will contain all the element of A and B\n"
   ]
  },
  {
   "cell_type": "markdown",
   "metadata": {},
   "source": [
    "#### How to sort a list?"
   ]
  },
  {
   "cell_type": "code",
   "execution_count": 11,
   "metadata": {},
   "outputs": [
    {
     "name": "stdout",
     "output_type": "stream",
     "text": [
      "[6, 7, 8, 9]\n",
      "[9, 8, 7, 6]\n"
     ]
    }
   ],
   "source": [
    "print(sorted(A, reverse= False))\n",
    "print(sorted(A, reverse= True))"
   ]
  },
  {
   "cell_type": "markdown",
   "metadata": {},
   "source": [
    "### Tuple\n",
    "\n",
    "1. tuple is used with parentheses\n",
    "2. tuple is immutable --> most important\n"
   ]
  },
  {
   "cell_type": "code",
   "execution_count": 12,
   "metadata": {},
   "outputs": [
    {
     "name": "stdout",
     "output_type": "stream",
     "text": [
      "<class 'tuple'>\n"
     ]
    }
   ],
   "source": [
    "a = ('the', 'fault', 'in', 'our', 'stars')\n",
    "print(type(a))"
   ]
  },
  {
   "cell_type": "markdown",
   "metadata": {},
   "source": [
    "#### Tuple slicing"
   ]
  },
  {
   "cell_type": "code",
   "execution_count": 13,
   "metadata": {},
   "outputs": [
    {
     "name": "stdout",
     "output_type": "stream",
     "text": [
      "the\n",
      "stars\n",
      "('fault', 'in')\n"
     ]
    }
   ],
   "source": [
    "print(a[0])\n",
    "print(a[-1])\n",
    "print(a[1:3])"
   ]
  },
  {
   "cell_type": "markdown",
   "metadata": {},
   "source": [
    "#### Immutability"
   ]
  },
  {
   "cell_type": "code",
   "execution_count": 14,
   "metadata": {},
   "outputs": [],
   "source": [
    "T = (8, 9, 'absolute', [1, 2])\n",
    "# T[0] = 2 #will throw an error"
   ]
  },
  {
   "cell_type": "markdown",
   "metadata": {},
   "source": [
    "**You cannot change any value inside a tuple and you cannot insert or delete as well**"
   ]
  },
  {
   "cell_type": "code",
   "execution_count": 15,
   "metadata": {},
   "outputs": [
    {
     "name": "stdout",
     "output_type": "stream",
     "text": [
      "3\n",
      "7\n",
      "1\n",
      "10\n",
      "1\n"
     ]
    }
   ],
   "source": [
    "#some functions that can be used with tuple\n",
    "Z = (2, 7, 1)\n",
    "print(len(Z))\n",
    "print(max(Z))\n",
    "print(min(Z))\n",
    "print(sum(Z))\n",
    "print(Z.count(2))"
   ]
  },
  {
   "cell_type": "markdown",
   "metadata": {},
   "source": [
    "**Similarities in List and Tuple**\n",
    "- The two data structures are both sequence data types that store collections of items.\n",
    "- Items of any data type can be stored in them.\n",
    "- Items can be accessed by their index.\n",
    "\n",
    "**Difference between List and Tuple**\n",
    "- List is mutable, whereas a tuple is immutable. This means that lists can be changed, and tuples cannot be changed."
   ]
  },
  {
   "cell_type": "markdown",
   "metadata": {},
   "source": [
    "### Set\n",
    "1. It works with a curly brace--> {}\n",
    "2. One item can appear only once\n",
    "3. You cannot slice item from set, unlike lists or tuples"
   ]
  },
  {
   "cell_type": "code",
   "execution_count": 16,
   "metadata": {},
   "outputs": [
    {
     "name": "stdout",
     "output_type": "stream",
     "text": [
      "{12, 13, 14}\n",
      "<class 'set'>\n",
      "3\n",
      "[12, 13, 14]\n",
      "{1, 2, 3, 4, 5, 7, 9}\n",
      "{1, 9, 7}\n",
      "{3, 5}\n"
     ]
    }
   ],
   "source": [
    "A = {12, 13, 14, 12}\n",
    "print(A) \n",
    "print(type(A))\n",
    "print(len(A))\n",
    "\n",
    "# convert to list\n",
    "A_converted = list(A)\n",
    "print(A_converted)\n",
    "\n",
    "A = {1, 3, 5, 7, 9}\n",
    "B = {1, 2, 4, 7, 9}\n",
    "\n",
    "print(A.union(B))\n",
    "print(A.intersection(B))\n",
    "print(A.difference(B))"
   ]
  },
  {
   "cell_type": "markdown",
   "metadata": {},
   "source": [
    "### Dictionary"
   ]
  },
  {
   "cell_type": "code",
   "execution_count": 17,
   "metadata": {},
   "outputs": [
    {
     "name": "stdout",
     "output_type": "stream",
     "text": [
      "{'abul': 1111, 'babul': 2222, 'cabul': 3333, 'dabul': 4444}\n",
      "1111\n",
      "2222\n",
      "3333\n",
      "4444\n",
      "dict_keys(['abul', 'babul', 'cabul', 'dabul'])\n",
      "dict_values([1111, 2222, 3333, 4444])\n"
     ]
    }
   ],
   "source": [
    "phone_contacts = {\"abul\":1111, \"babul\":2222, \"cabul\":3333, \"dabul\":4444}\n",
    "\n",
    "print(phone_contacts)\n",
    "print(phone_contacts[\"abul\"])\n",
    "print(phone_contacts[\"babul\"])\n",
    "print(phone_contacts[\"cabul\"])\n",
    "print(phone_contacts[\"dabul\"])\n",
    "\n",
    "print(phone_contacts.keys())\n",
    "print(phone_contacts.values())\n",
    "# print(phone_contacts.items())"
   ]
  },
  {
   "cell_type": "code",
   "execution_count": 18,
   "metadata": {},
   "outputs": [
    {
     "name": "stdout",
     "output_type": "stream",
     "text": [
      "{'abul': 1111, 'babul': 2222, 'cabul': 3333, 'dabul': [4444, 5555]}\n"
     ]
    }
   ],
   "source": [
    "# adding a new phone number of the existing contact\n",
    "phone_contacts[\"dabul\"] = [4444,5555]\n",
    "print(phone_contacts)"
   ]
  },
  {
   "cell_type": "code",
   "execution_count": 19,
   "metadata": {},
   "outputs": [
    {
     "name": "stdout",
     "output_type": "stream",
     "text": [
      "{'abul': 1111, 'babul': 2222, 'cabul': 3333, 'dabul': [4444, 5555], 'fabul': 6666}\n"
     ]
    }
   ],
   "source": [
    "# adding a new contact\n",
    "phone_contacts[\"fabul\"] = 6666\n",
    "print(phone_contacts)"
   ]
  },
  {
   "cell_type": "code",
   "execution_count": 20,
   "metadata": {},
   "outputs": [
    {
     "name": "stdout",
     "output_type": "stream",
     "text": [
      "{'abul': 1111, 'babul': 2222, 'cabul': 3333, 'dabul': [4444, 5555], 'fabul': 6666, 'gabul': 7777}\n"
     ]
    }
   ],
   "source": [
    "# updating a dictionary\n",
    "new_dict = {\"gabul\":7777}\n",
    "phone_contacts.update(new_dict)\n",
    "print(phone_contacts)"
   ]
  },
  {
   "cell_type": "code",
   "execution_count": 21,
   "metadata": {},
   "outputs": [
    {
     "name": "stdout",
     "output_type": "stream",
     "text": [
      "{'abul': 1111, 'babul': 2222, 'cabul': 3333, 'dabul': [4444, 5555], 'fabul': 6666}\n"
     ]
    }
   ],
   "source": [
    "# removing a contact from the phonebook\n",
    "del phone_contacts[\"gabul\"]\n",
    "print(phone_contacts)"
   ]
  },
  {
   "cell_type": "markdown",
   "metadata": {},
   "source": [
    "### Summary\n",
    "\n",
    "- List - indexed storage\n",
    "- Dictionary - Logical Association storage\n",
    "- Tuple - Memory optimized and Secure data storage\n",
    "- Set - unindexed data storage, widely useful for removing redundancy and mathematics ops"
   ]
  },
  {
   "cell_type": "code",
   "execution_count": null,
   "metadata": {},
   "outputs": [],
   "source": []
  }
 ],
 "metadata": {
  "kernelspec": {
   "display_name": "Python 3",
   "language": "python",
   "name": "python3"
  },
  "language_info": {
   "codemirror_mode": {
    "name": "ipython",
    "version": 3
   },
   "file_extension": ".py",
   "mimetype": "text/x-python",
   "name": "python",
   "nbconvert_exporter": "python",
   "pygments_lexer": "ipython3",
   "version": "3.8.5"
  }
 },
 "nbformat": 4,
 "nbformat_minor": 4
}
