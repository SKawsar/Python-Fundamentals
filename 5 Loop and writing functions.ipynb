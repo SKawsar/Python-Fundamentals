{
 "cells": [
  {
   "cell_type": "markdown",
   "metadata": {},
   "source": [
    "# Lecture 05: Conditional logic, loop and writing functions in Python\n",
    "\n",
    "Instructor:\n",
    "<br>**Md Shahidullah Kawsar**\n",
    "<br>Data Scientist\n",
    "<br>IDARE, Houston, TX, USA\n",
    "\n",
    "#### Objectives:\n",
    "1. How to write if-else, while and for loop in Python\n",
    "2. Writing functions in Python\n",
    "3. LeetCode problems\n",
    "\n",
    "\n",
    "#### References: \n",
    "1. https://leetcode.com/problems/defanging-an-ip-address/\n",
    "2. https://leetcode.com/problems/goal-parser-interpretation/\n",
    "3. https://leetcode.com/problems/check-if-two-string-arrays-are-equivalent/\n",
    "\n",
    "HW2:\n",
    "1. https://leetcode.com/problems/maximum-product-of-three-numbers/\n",
    "2. https://leetcode.com/problems/richest-customer-wealth/\n",
    "3. https://leetcode.com/problems/shuffle-the-array/\n",
    "4. https://leetcode.com/problems/valid-perfect-square/"
   ]
  },
  {
   "cell_type": "markdown",
   "metadata": {},
   "source": [
    "#### Example: for loop"
   ]
  },
  {
   "cell_type": "code",
   "execution_count": 79,
   "metadata": {},
   "outputs": [
    {
     "name": "stdout",
     "output_type": "stream",
     "text": [
      "element =  1 square_value =  1 [1]\n",
      "element =  2 square_value =  4 [1, 4]\n",
      "element =  3 square_value =  9 [1, 4, 9]\n",
      "element =  4 square_value =  16 [1, 4, 9, 16]\n",
      "element =  5 square_value =  25 [1, 4, 9, 16, 25]\n",
      "element =  11 square_value =  121 [1, 4, 9, 16, 25, 121]\n",
      "element =  12 square_value =  144 [1, 4, 9, 16, 25, 121, 144]\n",
      "element =  13 square_value =  169 [1, 4, 9, 16, 25, 121, 144, 169]\n",
      "element =  14 square_value =  196 [1, 4, 9, 16, 25, 121, 144, 169, 196]\n",
      "element =  15 square_value =  225 [1, 4, 9, 16, 25, 121, 144, 169, 196, 225]\n",
      "[1, 4, 9, 16, 25, 121, 144, 169, 196, 225]\n",
      "<class 'list'>\n"
     ]
    }
   ],
   "source": [
    "nums = [1,2,3,4,5,11,12,13,14,15] #input\n",
    "\n",
    "square_list = []\n",
    "\n",
    "for element in nums:\n",
    "    square_value = element*element\n",
    "    square_list.append(square_value)\n",
    "    print(\"element = \", element, \"square_value = \", square_value, square_list)\n",
    "\n",
    "print(square_list)\n",
    "    \n",
    "print(type(square_list))"
   ]
  },
  {
   "cell_type": "markdown",
   "metadata": {},
   "source": [
    "#### Writing Functions"
   ]
  },
  {
   "cell_type": "code",
   "execution_count": 80,
   "metadata": {},
   "outputs": [],
   "source": [
    "def multiply_numbers(a, b):\n",
    "    \n",
    "    total_sum = a*b\n",
    "    \n",
    "    return total_sum"
   ]
  },
  {
   "cell_type": "code",
   "execution_count": 81,
   "metadata": {},
   "outputs": [
    {
     "data": {
      "text/plain": [
       "2"
      ]
     },
     "execution_count": 81,
     "metadata": {},
     "output_type": "execute_result"
    }
   ],
   "source": [
    "multiply_numbers(1,2)"
   ]
  },
  {
   "cell_type": "code",
   "execution_count": 82,
   "metadata": {},
   "outputs": [
    {
     "data": {
      "text/plain": [
       "25000"
      ]
     },
     "execution_count": 82,
     "metadata": {},
     "output_type": "execute_result"
    }
   ],
   "source": [
    "multiply_numbers(100,250)"
   ]
  },
  {
   "cell_type": "code",
   "execution_count": 83,
   "metadata": {},
   "outputs": [
    {
     "data": {
      "text/plain": [
       "2.76"
      ]
     },
     "execution_count": 83,
     "metadata": {},
     "output_type": "execute_result"
    }
   ],
   "source": [
    "multiply_numbers(1.2,2.3)"
   ]
  },
  {
   "cell_type": "code",
   "execution_count": 84,
   "metadata": {},
   "outputs": [],
   "source": [
    "def square_elements(input_list):\n",
    "    \n",
    "    square_list = []\n",
    "\n",
    "    for element in input_list:\n",
    "        square_value = element*element\n",
    "        square_list.append(square_value)\n",
    "        print(\"element = \", element, \"square_value = \", square_value, square_list)\n",
    "        \n",
    "    return square_list"
   ]
  },
  {
   "cell_type": "code",
   "execution_count": 85,
   "metadata": {},
   "outputs": [
    {
     "name": "stdout",
     "output_type": "stream",
     "text": [
      "element =  1 square_value =  1 [1]\n",
      "element =  2 square_value =  4 [1, 4]\n",
      "element =  3 square_value =  9 [1, 4, 9]\n",
      "element =  4 square_value =  16 [1, 4, 9, 16]\n",
      "element =  5 square_value =  25 [1, 4, 9, 16, 25]\n"
     ]
    },
    {
     "data": {
      "text/plain": [
       "[1, 4, 9, 16, 25]"
      ]
     },
     "execution_count": 85,
     "metadata": {},
     "output_type": "execute_result"
    }
   ],
   "source": [
    "square_elements([1,2,3,4,5])"
   ]
  },
  {
   "cell_type": "code",
   "execution_count": 86,
   "metadata": {},
   "outputs": [
    {
     "name": "stdout",
     "output_type": "stream",
     "text": [
      "element =  -1 square_value =  1 [1]\n",
      "element =  2 square_value =  4 [1, 4]\n",
      "element =  4 square_value =  16 [1, 4, 16]\n",
      "element =  0 square_value =  0 [1, 4, 16, 0]\n",
      "element =  100 square_value =  10000 [1, 4, 16, 0, 10000]\n"
     ]
    },
    {
     "data": {
      "text/plain": [
       "[1, 4, 16, 0, 10000]"
      ]
     },
     "execution_count": 86,
     "metadata": {},
     "output_type": "execute_result"
    }
   ],
   "source": [
    "square_elements([-1,2,4,0,100])"
   ]
  },
  {
   "cell_type": "markdown",
   "metadata": {},
   "source": [
    "#### Even or odd"
   ]
  },
  {
   "cell_type": "code",
   "execution_count": 87,
   "metadata": {},
   "outputs": [
    {
     "name": "stdout",
     "output_type": "stream",
     "text": [
      "0 even = True\n",
      "1 even = False\n",
      "2 even = True\n",
      "3 even = False\n",
      "4 even = True\n",
      "5 even = False\n",
      "6 even = True\n",
      "7 even = False\n",
      "8 even = True\n",
      "9 even = False\n"
     ]
    }
   ],
   "source": [
    "for i in range(0,10):\n",
    "    if i%2 == 0:\n",
    "        print(i, \"even = True\")\n",
    "    else:\n",
    "        print(i, \"even = False\")"
   ]
  },
  {
   "cell_type": "markdown",
   "metadata": {},
   "source": [
    "#### Example of while condition"
   ]
  },
  {
   "cell_type": "code",
   "execution_count": 88,
   "metadata": {},
   "outputs": [
    {
     "name": "stdout",
     "output_type": "stream",
     "text": [
      "0\n",
      "Hello Geek\n",
      "1\n",
      "Hello Geek\n",
      "2\n",
      "Hello Geek\n"
     ]
    }
   ],
   "source": [
    "count = 0\n",
    "while count < 3:   \n",
    "    print(count)\n",
    "    count = count + 1\n",
    "    print(\"Hello Geek\")"
   ]
  },
  {
   "cell_type": "markdown",
   "metadata": {},
   "source": [
    "#### example: if-else"
   ]
  },
  {
   "cell_type": "code",
   "execution_count": 89,
   "metadata": {},
   "outputs": [
    {
     "name": "stdout",
     "output_type": "stream",
     "text": [
      "0 divisible by 2\n",
      "0 divisible by 3\n",
      "0 divisible by 4\n",
      "0 divisible by 2 and 4\n",
      "1 not divisible 2\n",
      "1 not divisible 3\n",
      "1 not divisible 4\n",
      "1 not divisible 2 and 4\n",
      "2 divisible by 2\n",
      "2 not divisible 3\n",
      "2 not divisible 4\n",
      "2 not divisible 2 and 4\n",
      "3 not divisible 2\n",
      "3 divisible by 3\n",
      "3 not divisible 4\n",
      "3 not divisible 2 and 4\n",
      "4 divisible by 2\n",
      "4 not divisible 3\n",
      "4 divisible by 4\n",
      "4 divisible by 2 and 4\n",
      "5 not divisible 2\n",
      "5 not divisible 3\n",
      "5 not divisible 4\n",
      "5 not divisible 2 and 4\n",
      "6 divisible by 2\n",
      "6 divisible by 3\n",
      "6 not divisible 4\n",
      "6 not divisible 2 and 4\n",
      "7 not divisible 2\n",
      "7 not divisible 3\n",
      "7 not divisible 4\n",
      "7 not divisible 2 and 4\n",
      "8 divisible by 2\n",
      "8 not divisible 3\n",
      "8 divisible by 4\n",
      "8 divisible by 2 and 4\n",
      "9 not divisible 2\n",
      "9 divisible by 3\n",
      "9 not divisible 4\n",
      "9 not divisible 2 and 4\n"
     ]
    }
   ],
   "source": [
    "for i in range(0,10,1):\n",
    "    \n",
    "    # 0,2,4,6,8\n",
    "    if i%2 == 0:\n",
    "        print(i, \"divisible by 2\")\n",
    "    else:\n",
    "        print(i, \"not divisible 2\")\n",
    "        \n",
    "    # 3,6,9\n",
    "    if i%3 == 0:\n",
    "        print(i, \"divisible by 3\")\n",
    "    else:\n",
    "        print(i, \"not divisible 3\")\n",
    "        \n",
    "    # 4, 8\n",
    "    if i%4 == 0:\n",
    "        print(i, \"divisible by 4\")\n",
    "    else:\n",
    "        print(i, \"not divisible 4\")\n",
    "        \n",
    "    if i%2 == 0 and i%4 == 0:\n",
    "        print(i, \"divisible by 2 and 4\")\n",
    "    else:\n",
    "        print(i, \"not divisible 2 and 4\")\n"
   ]
  },
  {
   "cell_type": "markdown",
   "metadata": {},
   "source": [
    "#### Example of cumulative sum using for loop"
   ]
  },
  {
   "cell_type": "code",
   "execution_count": 90,
   "metadata": {},
   "outputs": [
    {
     "name": "stdout",
     "output_type": "stream",
     "text": [
      "i =  0 i+1 =  1 num =  [1] sum =  1\n",
      "i =  1 i+1 =  2 num =  [1, 2] sum =  3\n",
      "i =  2 i+1 =  3 num =  [1, 2, 3] sum =  6\n",
      "i =  3 i+1 =  4 num =  [1, 2, 3, 4] sum =  10\n",
      "i =  4 i+1 =  5 num =  [1, 2, 3, 4, 5] sum =  15\n",
      "[1, 3, 6, 10, 15]\n"
     ]
    }
   ],
   "source": [
    "nums = [1,2,3,4,5]\n",
    "sum_list = []\n",
    "\n",
    "for i in range(len(nums)):\n",
    "    print(\"i = \", i,  \"i+1 = \", i+1, \"num = \", nums[:i+1], \"sum = \", sum(nums[:i+1]))\n",
    "    \n",
    "    sum_list.append(sum(nums[:i+1]))\n",
    "\n",
    "print(sum_list)"
   ]
  },
  {
   "cell_type": "markdown",
   "metadata": {},
   "source": [
    "#### LeetCode Problem 01: Defanging an IP Address\n",
    "\n",
    "Given a valid (IPv4) IP address, return a defanged version of that IP address.\n",
    "\n",
    "A defanged IP address replaces every period \".\" with \"[.]\"\n",
    "\n",
    "**Example 1:**\n",
    "<br>Input: address = \"1.1.1.1\"\n",
    "<br>Output: \"1[.]1[.]1[.]1\"\n",
    "\n",
    "**Example 2:**\n",
    "<br>Input: address = \"255.100.50.0\"\n",
    "<br>Output: \"255[.]100[.]50[.]0\""
   ]
  },
  {
   "cell_type": "code",
   "execution_count": 91,
   "metadata": {},
   "outputs": [
    {
     "name": "stdout",
     "output_type": "stream",
     "text": [
      "1[.]1[.]1[.]1\n",
      "255[.]100[.]50[.]0\n"
     ]
    }
   ],
   "source": [
    "def defangIPaddr(address):\n",
    "    \"\"\"\n",
    "    :type address: str\n",
    "    :rtype: str\n",
    "    \"\"\"\n",
    "    return address.replace('.', '[.]')\n",
    "\n",
    "example_1 = defangIPaddr(\"1.1.1.1\")\n",
    "print(example_1)\n",
    "\n",
    "example_2 = defangIPaddr(\"255.100.50.0\")\n",
    "print(example_2)"
   ]
  },
  {
   "cell_type": "markdown",
   "metadata": {},
   "source": [
    "#### LeetCode Problem 02: Goal Parser Interpretation\n",
    "\n",
    "You own a Goal Parser that can interpret a string command. The command consists of an alphabet of \"G\", \"()\" and/or \"(al)\" in some order. The Goal Parser will interpret \"G\" as the string \"G\", \"()\" as the string \"o\", and \"(al)\" as the string \"al\". The interpreted strings are then concatenated in the original order.\n",
    "\n",
    "Given the string command, return the Goal Parser's interpretation of command.\n",
    "\n",
    "**Example 1:**\n",
    "<br>Input: command = \"G()(al)\"\n",
    "<br>Output: \"Goal\"\n",
    "Explanation: The Goal Parser interprets the command as follows:\n",
    "G -> G\n",
    "() -> o\n",
    "(al) -> al\n",
    "The final concatenated result is \"Goal\".\n",
    "\n",
    "**Example 2:**\n",
    "<br>Input: command = \"G()()()()(al)\"\n",
    "<br>Output: \"Gooooal\"\n",
    "\n",
    "**Example 3:**\n",
    "<br>Input: command = \"(al)G(al)()()G\"\n",
    "<br>Output: \"alGalooG\""
   ]
  },
  {
   "cell_type": "code",
   "execution_count": 92,
   "metadata": {},
   "outputs": [
    {
     "name": "stdout",
     "output_type": "stream",
     "text": [
      "Goal\n",
      "Gooooal\n",
      "alGalooG\n"
     ]
    }
   ],
   "source": [
    "def interpret(command):\n",
    "    \"\"\"\n",
    "    :type command: str\n",
    "    :rtype: str\n",
    "    \"\"\"\n",
    "    command = command.replace('()', 'o')\n",
    "    command = command.replace('(al)', 'al')\n",
    "\n",
    "    return command\n",
    "\n",
    "example_1 = interpret(\"G()(al)\")\n",
    "print(example_1)\n",
    "\n",
    "example_2 = interpret(\"G()()()()(al)\")\n",
    "print(example_2)\n",
    "\n",
    "example_3 = interpret(\"(al)G(al)()()G\")\n",
    "print(example_3)"
   ]
  },
  {
   "cell_type": "markdown",
   "metadata": {},
   "source": [
    "#### LeetCode Problem 03: Check If Two String Arrays are Equivalent\n",
    "Given two string arrays word1 and word2, return true if the two arrays represent the same string, and false otherwise.\n",
    "\n",
    "A string is represented by an array if the array elements concatenated in order forms the string.\n",
    "\n",
    "**Example 1:**\n",
    "<br>Input: word1 = [\"ab\", \"c\"], word2 = [\"a\", \"bc\"]\n",
    "<br>Output: true\n",
    "<br>Explanation:\n",
    "<br>word1 represents string \"ab\" + \"c\" -> \"abc\"\n",
    "<br>word2 represents string \"a\" + \"bc\" -> \"abc\"\n",
    "<br>The strings are the same, so return true.\n",
    "\n",
    "**Example 2:**\n",
    "<br>Input: word1 = [\"a\", \"cb\"], word2 = [\"ab\", \"c\"]\n",
    "<br>Output: false\n",
    "\n",
    "**Example 3:**\n",
    "<br>Input: word1  = [\"abc\", \"d\", \"defg\"], word2 = [\"abcddefg\"]\n",
    "<br>Output: true"
   ]
  },
  {
   "cell_type": "code",
   "execution_count": 93,
   "metadata": {},
   "outputs": [
    {
     "name": "stdout",
     "output_type": "stream",
     "text": [
      "True\n",
      "False\n",
      "True\n"
     ]
    }
   ],
   "source": [
    "def arrayStringsAreEqual(word1, word2):\n",
    "    \n",
    "#     print(\"\".join(word1))\n",
    "#     print(\"\".join(word2))\n",
    "\n",
    "    return \"\".join(word1) == \"\".join(word2)\n",
    "\n",
    "example_1 = arrayStringsAreEqual([\"ab\", \"c\"], [\"a\", \"bc\"])\n",
    "print(example_1)\n",
    "\n",
    "example_2 = arrayStringsAreEqual([\"a\", \"cb\"], [\"ab\", \"c\"])\n",
    "print(example_2)\n",
    "\n",
    "example_3 = arrayStringsAreEqual( [\"abc\", \"d\", \"defg\"], [\"abcddefg\"])\n",
    "print(example_3)"
   ]
  }
 ],
 "metadata": {
  "kernelspec": {
   "display_name": "Python 3",
   "language": "python",
   "name": "python3"
  },
  "language_info": {
   "codemirror_mode": {
    "name": "ipython",
    "version": 3
   },
   "file_extension": ".py",
   "mimetype": "text/x-python",
   "name": "python",
   "nbconvert_exporter": "python",
   "pygments_lexer": "ipython3",
   "version": "3.8.5"
  }
 },
 "nbformat": 4,
 "nbformat_minor": 4
}
