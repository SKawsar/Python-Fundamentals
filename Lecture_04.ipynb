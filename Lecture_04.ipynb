{
  "nbformat": 4,
  "nbformat_minor": 0,
  "metadata": {
    "colab": {
      "name": "Lecture_04.ipynb",
      "provenance": [],
      "collapsed_sections": [],
      "authorship_tag": "ABX9TyNDSheoiv+bJBqu/zSihZig",
      "include_colab_link": true
    },
    "kernelspec": {
      "name": "python3",
      "display_name": "Python 3"
    },
    "language_info": {
      "name": "python"
    }
  },
  "cells": [
    {
      "cell_type": "markdown",
      "metadata": {
        "id": "view-in-github",
        "colab_type": "text"
      },
      "source": [
        "<a href=\"https://colab.research.google.com/github/SKawsar/Python_Fundamentals_s2/blob/main/Lecture_04.ipynb\" target=\"_parent\"><img src=\"https://colab.research.google.com/assets/colab-badge.svg\" alt=\"Open In Colab\"/></a>"
      ]
    },
    {
      "cell_type": "markdown",
      "source": [
        "# Lecture 04: Python Data Structure\n",
        "\n",
        "Instructor:\n",
        "#### Md Shahidullah Kawsar\n",
        "Data Scientist\n",
        "<br>IDARE, Houston, TX, USA\n",
        "\n",
        "#### Objectives:\n",
        "- Python Data Structure: List, tuple, set, dictionary\n",
        "\n",
        "#### References:\n",
        "- List vs Tuple: Difference Between List and Tuple: https://www.upgrad.com/blog/list-vs-tuple/"
      ],
      "metadata": {
        "id": "P3wcQSYIl361"
      }
    },
    {
      "cell_type": "markdown",
      "source": [
        "#### List Manipulation:\n",
        "- Change list elements\n",
        "- Add list elements\n",
        "- Remove list elements"
      ],
      "metadata": {
        "id": "SzGBkCVGlxNh"
      }
    },
    {
      "cell_type": "code",
      "source": [
        ""
      ],
      "metadata": {
        "id": "hglKTEEhl3OJ"
      },
      "execution_count": null,
      "outputs": []
    },
    {
      "cell_type": "markdown",
      "source": [
        "#### List Slicing"
      ],
      "metadata": {
        "id": "j8tqvNo4mZhh"
      }
    },
    {
      "cell_type": "code",
      "source": [
        ""
      ],
      "metadata": {
        "id": "_DgBGollmblx"
      },
      "execution_count": null,
      "outputs": []
    },
    {
      "cell_type": "markdown",
      "source": [
        "#### Checking length of a string"
      ],
      "metadata": {
        "id": "pa15ELBkmcIk"
      }
    },
    {
      "cell_type": "code",
      "source": [
        ""
      ],
      "metadata": {
        "id": "529_5j4EmfkN"
      },
      "execution_count": null,
      "outputs": []
    },
    {
      "cell_type": "markdown",
      "source": [
        "#### Checking the presence of an element in a list"
      ],
      "metadata": {
        "id": "2YQLidJjmgYJ"
      }
    },
    {
      "cell_type": "code",
      "source": [
        ""
      ],
      "metadata": {
        "id": "YH0i3kERmja7"
      },
      "execution_count": null,
      "outputs": []
    },
    {
      "cell_type": "markdown",
      "source": [
        "#### Insert a new element in the list"
      ],
      "metadata": {
        "id": "VbGdhF5emj_t"
      }
    },
    {
      "cell_type": "code",
      "source": [
        ""
      ],
      "metadata": {
        "id": "_mcaKAaMmmuB"
      },
      "execution_count": null,
      "outputs": []
    },
    {
      "cell_type": "markdown",
      "source": [
        "#### How to reverse a list?"
      ],
      "metadata": {
        "id": "uRkRqAYTmnfz"
      }
    },
    {
      "cell_type": "code",
      "source": [
        ""
      ],
      "metadata": {
        "id": "CTgvn8-UmqIt"
      },
      "execution_count": null,
      "outputs": []
    },
    {
      "cell_type": "markdown",
      "source": [
        "#### How to count the frequency of a specific element in a list?"
      ],
      "metadata": {
        "id": "DkldL5HrmqnP"
      }
    },
    {
      "cell_type": "code",
      "source": [
        ""
      ],
      "metadata": {
        "id": "L6zyEYlrmvYG"
      },
      "execution_count": null,
      "outputs": []
    },
    {
      "cell_type": "markdown",
      "source": [
        "#### How to remove an element from a list?"
      ],
      "metadata": {
        "id": "z1bZmWLAmv5X"
      }
    },
    {
      "cell_type": "code",
      "source": [
        ""
      ],
      "metadata": {
        "id": "0jKy-VeDmySD"
      },
      "execution_count": null,
      "outputs": []
    },
    {
      "cell_type": "markdown",
      "source": [
        "#### How to find the minimum value, maximum value and total sum of a list?"
      ],
      "metadata": {
        "id": "SC6D6L9gmzA6"
      }
    },
    {
      "cell_type": "code",
      "source": [
        ""
      ],
      "metadata": {
        "id": "3zgjYU4Cm2oE"
      },
      "execution_count": null,
      "outputs": []
    },
    {
      "cell_type": "markdown",
      "source": [
        "#### What will happen if you add two lists?"
      ],
      "metadata": {
        "id": "xvebtnXAm3Hf"
      }
    },
    {
      "cell_type": "code",
      "source": [
        ""
      ],
      "metadata": {
        "id": "0hcWV5Ivm6ch"
      },
      "execution_count": null,
      "outputs": []
    },
    {
      "cell_type": "markdown",
      "source": [
        "#### How to sort a list?"
      ],
      "metadata": {
        "id": "pqLfHrItm69U"
      }
    },
    {
      "cell_type": "code",
      "source": [
        ""
      ],
      "metadata": {
        "id": "U6eHA12Gm-Po"
      },
      "execution_count": null,
      "outputs": []
    },
    {
      "cell_type": "markdown",
      "source": [
        "# Tuple\n",
        "- tuple is used with parentheses\n",
        "- tuple is immutable --> most important"
      ],
      "metadata": {
        "id": "ZmrZle8tm-xu"
      }
    },
    {
      "cell_type": "code",
      "source": [
        ""
      ],
      "metadata": {
        "id": "pkUOMNS8nDmH"
      },
      "execution_count": null,
      "outputs": []
    },
    {
      "cell_type": "markdown",
      "source": [
        "#### Tuple slicing"
      ],
      "metadata": {
        "id": "eq8LzpadnGKc"
      }
    },
    {
      "cell_type": "code",
      "source": [
        ""
      ],
      "metadata": {
        "id": "uwHP6mHKnHEz"
      },
      "execution_count": null,
      "outputs": []
    },
    {
      "cell_type": "markdown",
      "source": [
        "#### Immutability"
      ],
      "metadata": {
        "id": "U2Dens0JnIyC"
      }
    },
    {
      "cell_type": "code",
      "source": [
        ""
      ],
      "metadata": {
        "id": "qxG96zmOnK61"
      },
      "execution_count": null,
      "outputs": []
    },
    {
      "cell_type": "markdown",
      "source": [
        "#### Similarities in List and Tuple:\n",
        "- The two data structures are both sequence data types that store collections of items.\n",
        "- Items of any data type can be stored in them.\n",
        "- Items can be accessed by their index.\n",
        "\n",
        "#### Difference between List and Tuple:\n",
        "- List is mutable, whereas a tuple is immutable. This means that lists can be changed, and tuples cannot be changed."
      ],
      "metadata": {
        "id": "f3QKjVzpnLnV"
      }
    },
    {
      "cell_type": "code",
      "source": [
        ""
      ],
      "metadata": {
        "id": "Gh4DNbtZnXTi"
      },
      "execution_count": null,
      "outputs": []
    },
    {
      "cell_type": "markdown",
      "source": [
        "#### Set\n",
        "- It works with a curly brace--> {}\n",
        "- One item can appear only once\n",
        "- You cannot slice item from set, unlike lists or tuples"
      ],
      "metadata": {
        "id": "Ngui8jJAna3S"
      }
    },
    {
      "cell_type": "code",
      "source": [
        ""
      ],
      "metadata": {
        "id": "AtPq5nQrngpQ"
      },
      "execution_count": null,
      "outputs": []
    },
    {
      "cell_type": "markdown",
      "source": [
        "#### Dictionary"
      ],
      "metadata": {
        "id": "Hd1iyP2jnocr"
      }
    },
    {
      "cell_type": "code",
      "source": [
        ""
      ],
      "metadata": {
        "id": "aR-0zuDMnp6l"
      },
      "execution_count": null,
      "outputs": []
    },
    {
      "cell_type": "markdown",
      "source": [
        "#### Summary\n",
        "- List - indexed storage\n",
        "- Dictionary - Logical Association storage\n",
        "- Tuple - Memory optimized and Secure data storage\n",
        "- Set - unindexed data storage, widely useful for removing redundancy and mathematics ops"
      ],
      "metadata": {
        "id": "tS6BsouUnqhG"
      }
    },
    {
      "cell_type": "code",
      "source": [
        ""
      ],
      "metadata": {
        "id": "Pxu5_jdRnxjv"
      },
      "execution_count": null,
      "outputs": []
    }
  ]
}