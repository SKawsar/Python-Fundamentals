{
  "cells": [
    {
      "cell_type": "markdown",
      "metadata": {
        "id": "view-in-github",
        "colab_type": "text"
      },
      "source": [
        "<a href=\"https://colab.research.google.com/github/SKawsar/Python_Fundamentals_s2/blob/main/Lecture_1.ipynb\" target=\"_parent\"><img src=\"https://colab.research.google.com/assets/colab-badge.svg\" alt=\"Open In Colab\"/></a>"
      ]
    },
    {
      "cell_type": "markdown",
      "metadata": {
        "id": "2MPjGERTdfjx"
      },
      "source": [
        "# Lecture 01: Introduction to Python\n",
        "\n",
        "Instructor:\n",
        "<br>**Md Shahidullah Kawsar**\n",
        "<br>Data Scientist\n",
        "<br>IDARE, Houston, TX, USA\n",
        "\n",
        "#### Objectives:\n",
        "1. Familiarity with Google Colab, Anaconda, jupyter notebook, and Github\n",
        "2. Learn logical thinking by playing blockly games: Maze\n",
        "3. Learn about Python data types, Mathematical Operations, Comparison Operators, Logical Operators, and Membership Operators\n",
        "\n",
        "#### References: \n",
        "1. Google Colab: https://colab.research.google.com/\n",
        "2. Download Anaconda installer: https://www.anaconda.com/products/individual\n",
        "3. How to Install Anaconda (Python) on Windows 10:\n",
        "https://www.youtube.com/watch?v=syijLJ3oQzU\n",
        "4. Easily Install Anaconda Python on MacOS:\n",
        "https://www.youtube.com/watch?v=V6ZAv7hBH6Y&ab_channel=JustUnderstandingDataJustUnderstandingData\n",
        "5. https://blockly.games/\n",
        "6. Python - Basic Operators: https://www.tutorialspoint.com/python/python_basic_operators.htm\n",
        "7. Python Fundamentals: https://github.com/SKawsar/Python_Fundamentals\n"
      ]
    },
    {
      "cell_type": "markdown",
      "metadata": {
        "id": "7zSU6kgydfjy"
      },
      "source": [
        "- Q1: The sum of two even numbers will be always odd. True or **False**\n",
        "\n",
        "<br>The sum of two even numbers will be always even.\n",
        "<br>The sum of two odd numbers will be always even.\n",
        "<br>The sum of one even number and one odd number will be always odd."
      ]
    },
    {
      "cell_type": "code",
      "execution_count": 42,
      "metadata": {
        "id": "wRT1IioRdfj0",
        "outputId": "3a255b08-5780-4cc7-9400-2c72ab56e8be",
        "colab": {
          "base_uri": "https://localhost:8080/"
        }
      },
      "outputs": [
        {
          "output_type": "execute_result",
          "data": {
            "text/plain": [
              "4"
            ]
          },
          "metadata": {},
          "execution_count": 42
        }
      ],
      "source": [
        "# integer\n",
        "# পূর্ণসংখ্যা \n",
        "# কমেন্ট\n",
        "2 + 2 "
      ]
    },
    {
      "cell_type": "code",
      "source": [
        "4 + 10"
      ],
      "metadata": {
        "id": "52z-19y8L2re",
        "outputId": "88dfc27d-cee5-4184-e16f-a26c3f8d2305",
        "colab": {
          "base_uri": "https://localhost:8080/"
        }
      },
      "execution_count": 43,
      "outputs": [
        {
          "output_type": "execute_result",
          "data": {
            "text/plain": [
              "14"
            ]
          },
          "metadata": {},
          "execution_count": 43
        }
      ]
    },
    {
      "cell_type": "code",
      "source": [
        "3 + 3 "
      ],
      "metadata": {
        "id": "fx1z5iKPL23o",
        "outputId": "bcc197f7-29d2-4908-9032-36a61c9aecdc",
        "colab": {
          "base_uri": "https://localhost:8080/"
        }
      },
      "execution_count": 44,
      "outputs": [
        {
          "output_type": "execute_result",
          "data": {
            "text/plain": [
              "6"
            ]
          },
          "metadata": {},
          "execution_count": 44
        }
      ]
    },
    {
      "cell_type": "code",
      "source": [
        "2+3"
      ],
      "metadata": {
        "id": "k6xfblRJL9fB",
        "outputId": "964c71d1-f923-4591-c9ad-713f1745bc9e",
        "colab": {
          "base_uri": "https://localhost:8080/"
        }
      },
      "execution_count": 45,
      "outputs": [
        {
          "output_type": "execute_result",
          "data": {
            "text/plain": [
              "5"
            ]
          },
          "metadata": {},
          "execution_count": 45
        }
      ]
    },
    {
      "cell_type": "markdown",
      "metadata": {
        "id": "ZX6ecNGrdfj0"
      },
      "source": [
        "- Q2: A positive value is always greater than a negative value. **True** or False\n"
      ]
    },
    {
      "cell_type": "code",
      "execution_count": 46,
      "metadata": {
        "id": "WAcga3ZQdfj1",
        "outputId": "3525aba7-7db7-4b46-e130-fccdb51fb45a",
        "colab": {
          "base_uri": "https://localhost:8080/"
        }
      },
      "outputs": [
        {
          "output_type": "execute_result",
          "data": {
            "text/plain": [
              "True"
            ]
          },
          "metadata": {},
          "execution_count": 46
        }
      ],
      "source": [
        "1>-1"
      ]
    },
    {
      "cell_type": "code",
      "source": [
        "-9>1"
      ],
      "metadata": {
        "id": "YRFWdWI4MAFt",
        "outputId": "4fd50b2e-c2ae-453e-d643-a7f9aa8cb7aa",
        "colab": {
          "base_uri": "https://localhost:8080/"
        }
      },
      "execution_count": 47,
      "outputs": [
        {
          "output_type": "execute_result",
          "data": {
            "text/plain": [
              "False"
            ]
          },
          "metadata": {},
          "execution_count": 47
        }
      ]
    },
    {
      "cell_type": "markdown",
      "metadata": {
        "id": "bShjVn2Odfj1"
      },
      "source": [
        "- Q3: Can you divide a number by zero? Yes or **No**\n"
      ]
    },
    {
      "cell_type": "code",
      "execution_count": 48,
      "metadata": {
        "id": "mB5LHyFNdfj1"
      },
      "outputs": [],
      "source": [
        "# 0/0"
      ]
    },
    {
      "cell_type": "markdown",
      "metadata": {
        "id": "4t-kajZQdfj2"
      },
      "source": [
        "- Q4. If x is less than 1 and y is greater than 1, then x/y is less than 1. **True** or False\n"
      ]
    },
    {
      "cell_type": "code",
      "execution_count": 49,
      "metadata": {
        "id": "ijfK_0ludfj2",
        "outputId": "3d501be0-1ca0-4811-98d3-f66b075dd5e2",
        "colab": {
          "base_uri": "https://localhost:8080/"
        }
      },
      "outputs": [
        {
          "output_type": "execute_result",
          "data": {
            "text/plain": [
              "True"
            ]
          },
          "metadata": {},
          "execution_count": 49
        }
      ],
      "source": [
        "# 0.5 float \n",
        "x = 0.5\n",
        "y = 2\n",
        "\n",
        "x/y < 1"
      ]
    },
    {
      "cell_type": "markdown",
      "metadata": {
        "id": "HjZB6LbBdfj2"
      },
      "source": [
        "- Q5. The word 'Google' contains 5 unique characters. **True** or False\n"
      ]
    },
    {
      "cell_type": "code",
      "execution_count": 50,
      "metadata": {
        "id": "lJC6rD6rdfj3",
        "outputId": "e20efb6a-35ee-4d00-d98c-68a94a591e94",
        "colab": {
          "base_uri": "https://localhost:8080/"
        }
      },
      "outputs": [
        {
          "output_type": "stream",
          "name": "stdout",
          "text": [
            "6\n",
            "29\n"
          ]
        }
      ],
      "source": [
        "# \"Google\", 'Google'\n",
        "\n",
        "print(len(\"Google\"))\n",
        "print(len(\"My phone number is 2082222 !&\"))"
      ]
    },
    {
      "cell_type": "code",
      "source": [
        "\"G\" == \"g\""
      ],
      "metadata": {
        "id": "QFWv0AJ9MeOc",
        "outputId": "a0017b6d-8856-44fb-c115-9c7482761fcd",
        "colab": {
          "base_uri": "https://localhost:8080/"
        }
      },
      "execution_count": 51,
      "outputs": [
        {
          "output_type": "execute_result",
          "data": {
            "text/plain": [
              "False"
            ]
          },
          "metadata": {},
          "execution_count": 51
        }
      ]
    },
    {
      "cell_type": "code",
      "source": [
        "52 == 53"
      ],
      "metadata": {
        "id": "CHsPRCcZMeXV",
        "outputId": "211d584d-c2fa-4f0d-be51-0460352dbe83",
        "colab": {
          "base_uri": "https://localhost:8080/"
        }
      },
      "execution_count": 52,
      "outputs": [
        {
          "output_type": "execute_result",
          "data": {
            "text/plain": [
              "False"
            ]
          },
          "metadata": {},
          "execution_count": 52
        }
      ]
    },
    {
      "cell_type": "markdown",
      "metadata": {
        "id": "W2cNF-0bdfj5"
      },
      "source": [
        "- Q6. If x>1 and y>1, then x multiplied by y is greater than 1. **True** or False\n"
      ]
    },
    {
      "cell_type": "code",
      "execution_count": 53,
      "metadata": {
        "id": "1c2ezzredfj5",
        "outputId": "897bf952-d6fa-4a5f-9f87-96c20475903c",
        "colab": {
          "base_uri": "https://localhost:8080/"
        }
      },
      "outputs": [
        {
          "output_type": "execute_result",
          "data": {
            "text/plain": [
              "True"
            ]
          },
          "metadata": {},
          "execution_count": 53
        }
      ],
      "source": [
        "x = 100\n",
        "y = 10\n",
        "\n",
        "x*y > 1"
      ]
    },
    {
      "cell_type": "markdown",
      "metadata": {
        "id": "4TFwXI3kdfj5"
      },
      "source": [
        "- Q7. The product of two odd numbers and one even number will always be an even number. **True** or False\n"
      ]
    },
    {
      "cell_type": "code",
      "execution_count": 54,
      "metadata": {
        "id": "CXmJqlArdfj6",
        "outputId": "65e5e1ad-19dd-4c39-eae7-d274a9726f07",
        "colab": {
          "base_uri": "https://localhost:8080/"
        }
      },
      "outputs": [
        {
          "output_type": "stream",
          "name": "stdout",
          "text": [
            "6\n"
          ]
        }
      ],
      "source": [
        "a = 1\n",
        "b = 3\n",
        "c = 2\n",
        "\n",
        "d = a*b*c\n",
        "print(d)"
      ]
    },
    {
      "cell_type": "markdown",
      "metadata": {
        "id": "KKx0BxtOdfj6"
      },
      "source": [
        "- Q8. Set A = {1, 3, 5}, Set B = {1, 2, 3}; Set A intersection Set B = {1, 2, 3, 5}. True or **False**\n"
      ]
    },
    {
      "cell_type": "code",
      "execution_count": 55,
      "metadata": {
        "id": "NgxJkm6ldfj6",
        "outputId": "b82aab1f-437d-414f-f02a-22458f108aa6",
        "colab": {
          "base_uri": "https://localhost:8080/"
        }
      },
      "outputs": [
        {
          "output_type": "execute_result",
          "data": {
            "text/plain": [
              "{1, 3}"
            ]
          },
          "metadata": {},
          "execution_count": 55
        }
      ],
      "source": [
        "a = {1,3,5}\n",
        "b = {1,2,3}\n",
        "\n",
        "a.intersection(b)"
      ]
    },
    {
      "cell_type": "markdown",
      "metadata": {
        "id": "qUNf7NDMdfj6"
      },
      "source": [
        "- Q9. A = [1,2,3,1,2,3,12,3], the number of unique integers present in A are 4. **True** or False\n"
      ]
    },
    {
      "cell_type": "code",
      "source": [
        "A = [1,2,3,1,2,3,12,3]\n",
        "\n",
        "print(set(A))\n",
        "print(len(set(A)))"
      ],
      "metadata": {
        "id": "fejrOES-eeF2",
        "outputId": "88a50648-6eaa-4884-8fd6-7aea76ca4cc7",
        "colab": {
          "base_uri": "https://localhost:8080/"
        }
      },
      "execution_count": 56,
      "outputs": [
        {
          "output_type": "stream",
          "name": "stdout",
          "text": [
            "{1, 2, 3, 12}\n",
            "4\n"
          ]
        }
      ]
    },
    {
      "cell_type": "markdown",
      "metadata": {
        "id": "WqaKHN_Ydfj6"
      },
      "source": [
        "- Q10. 1 is not equal to 1.00. True or **False**"
      ]
    },
    {
      "cell_type": "code",
      "execution_count": 57,
      "metadata": {
        "id": "lXIHT3b2dfj6",
        "outputId": "500a5f2b-2fc4-4f64-d913-ae8db6b51d1c",
        "colab": {
          "base_uri": "https://localhost:8080/"
        }
      },
      "outputs": [
        {
          "output_type": "execute_result",
          "data": {
            "text/plain": [
              "False"
            ]
          },
          "metadata": {},
          "execution_count": 57
        }
      ],
      "source": [
        "1 != 1.00"
      ]
    },
    {
      "cell_type": "markdown",
      "metadata": {
        "id": "55e4JXpydfj7"
      },
      "source": [
        "### Python Data Types\n",
        "<br>**str** : string, text\n",
        "<br>**int** : inetger numbers\n",
        "<br>**float** : real numbers, decimal values\n",
        "<br>**bool** : True, False"
      ]
    }
  ],
  "metadata": {
    "kernelspec": {
      "display_name": "Python 3",
      "language": "python",
      "name": "python3"
    },
    "language_info": {
      "codemirror_mode": {
        "name": "ipython",
        "version": 3
      },
      "file_extension": ".py",
      "mimetype": "text/x-python",
      "name": "python",
      "nbconvert_exporter": "python",
      "pygments_lexer": "ipython3",
      "version": "3.7.6"
    },
    "colab": {
      "name": "Lecture_1.ipynb",
      "provenance": [],
      "include_colab_link": true
    }
  },
  "nbformat": 4,
  "nbformat_minor": 0
}