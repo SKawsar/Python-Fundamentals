{
  "cells": [
    {
      "cell_type": "markdown",
      "metadata": {
        "id": "view-in-github",
        "colab_type": "text"
      },
      "source": [
        "<a href=\"https://colab.research.google.com/github/SKawsar/Python_Fundamentals_s2/blob/main/Lecture_1.ipynb\" target=\"_parent\"><img src=\"https://colab.research.google.com/assets/colab-badge.svg\" alt=\"Open In Colab\"/></a>"
      ]
    },
    {
      "cell_type": "markdown",
      "metadata": {
        "id": "2MPjGERTdfjx"
      },
      "source": [
        "# Lecture 01: Introduction to Python\n",
        "\n",
        "Instructor:\n",
        "<br>**Md Shahidullah Kawsar**\n",
        "<br>Data Scientist\n",
        "<br>IDARE, Houston, TX, USA\n",
        "\n",
        "#### Objectives:\n",
        "1. Familiarity with Google Colab, Anaconda, jupyter notebook, and Github\n",
        "2. Learn logical thinking by playing blockly games: Maze\n",
        "3. Learn about Python data types, Mathematical Operations, Comparison Operators, Logical Operators, and Membership Operators\n",
        "\n",
        "#### References: \n",
        "1. Google Colab: https://colab.research.google.com/\n",
        "2. Download Anaconda installer: https://www.anaconda.com/products/individual\n",
        "3. How to Install Anaconda (Python) on Windows 10:\n",
        "https://www.youtube.com/watch?v=syijLJ3oQzU\n",
        "4. Easily Install Anaconda Python on MacOS:\n",
        "https://www.youtube.com/watch?v=V6ZAv7hBH6Y&ab_channel=JustUnderstandingDataJustUnderstandingData\n",
        "5. https://blockly.games/\n",
        "6. Python - Basic Operators: https://www.tutorialspoint.com/python/python_basic_operators.htm\n",
        "7. Python Fundamentals: https://github.com/SKawsar/Python_Fundamentals\n"
      ]
    },
    {
      "cell_type": "markdown",
      "metadata": {
        "id": "7zSU6kgydfjy"
      },
      "source": [
        "- Q1: The sum of two even numbers will be always odd. True or **False**\n"
      ]
    },
    {
      "cell_type": "code",
      "execution_count": null,
      "metadata": {
        "id": "wRT1IioRdfj0"
      },
      "outputs": [],
      "source": [
        ""
      ]
    },
    {
      "cell_type": "markdown",
      "metadata": {
        "id": "ZX6ecNGrdfj0"
      },
      "source": [
        "- Q2: A positive value is always greater than a negative value. **True** or False\n"
      ]
    },
    {
      "cell_type": "code",
      "execution_count": null,
      "metadata": {
        "id": "WAcga3ZQdfj1"
      },
      "outputs": [],
      "source": [
        ""
      ]
    },
    {
      "cell_type": "markdown",
      "metadata": {
        "id": "bShjVn2Odfj1"
      },
      "source": [
        "- Q3: Can you divide a number by zero? Yes or **No**\n"
      ]
    },
    {
      "cell_type": "code",
      "execution_count": null,
      "metadata": {
        "id": "mB5LHyFNdfj1"
      },
      "outputs": [],
      "source": [
        ""
      ]
    },
    {
      "cell_type": "markdown",
      "metadata": {
        "id": "4t-kajZQdfj2"
      },
      "source": [
        "- Q4. If x is less than 1 and y is greater than 1, then x/y is less than 1. True or False\n"
      ]
    },
    {
      "cell_type": "code",
      "execution_count": null,
      "metadata": {
        "id": "ijfK_0ludfj2"
      },
      "outputs": [],
      "source": [
        ""
      ]
    },
    {
      "cell_type": "markdown",
      "metadata": {
        "id": "HjZB6LbBdfj2"
      },
      "source": [
        "- Q5. The word 'Google' contains 5 unique characters. **True** or False\n"
      ]
    },
    {
      "cell_type": "code",
      "execution_count": null,
      "metadata": {
        "id": "lJC6rD6rdfj3"
      },
      "outputs": [],
      "source": [
        ""
      ]
    },
    {
      "cell_type": "markdown",
      "metadata": {
        "id": "W2cNF-0bdfj5"
      },
      "source": [
        "- Q6. If x>1 and y>1, then x multiplied by y is greater than 1. **True** or False\n"
      ]
    },
    {
      "cell_type": "code",
      "execution_count": null,
      "metadata": {
        "id": "1c2ezzredfj5"
      },
      "outputs": [],
      "source": [
        ""
      ]
    },
    {
      "cell_type": "markdown",
      "metadata": {
        "id": "4TFwXI3kdfj5"
      },
      "source": [
        "- Q7. The product of two odd numbers and one even number will always be an even number. **True** or False\n"
      ]
    },
    {
      "cell_type": "code",
      "execution_count": null,
      "metadata": {
        "id": "CXmJqlArdfj6"
      },
      "outputs": [],
      "source": [
        ""
      ]
    },
    {
      "cell_type": "markdown",
      "metadata": {
        "id": "KKx0BxtOdfj6"
      },
      "source": [
        "- Q8. Set A = {1, 3, 5}, Set B = {1, 2, 3}; Set A intersection Set B = {1, 2, 3, 5}. True or **False**\n"
      ]
    },
    {
      "cell_type": "code",
      "execution_count": null,
      "metadata": {
        "id": "NgxJkm6ldfj6"
      },
      "outputs": [],
      "source": [
        ""
      ]
    },
    {
      "cell_type": "markdown",
      "metadata": {
        "id": "qUNf7NDMdfj6"
      },
      "source": [
        "- Q9. A = [1,2,3,1,2,3,12,3], the number of unique integers present in A are 4. **True** or False\n"
      ]
    },
    {
      "cell_type": "code",
      "source": [
        ""
      ],
      "metadata": {
        "id": "fejrOES-eeF2"
      },
      "execution_count": 2,
      "outputs": []
    },
    {
      "cell_type": "markdown",
      "metadata": {
        "id": "WqaKHN_Ydfj6"
      },
      "source": [
        "- Q10. 1 is not equal to 1.00. True or **False**"
      ]
    },
    {
      "cell_type": "code",
      "execution_count": null,
      "metadata": {
        "id": "lXIHT3b2dfj6"
      },
      "outputs": [],
      "source": [
        ""
      ]
    },
    {
      "cell_type": "markdown",
      "metadata": {
        "id": "55e4JXpydfj7"
      },
      "source": [
        "### Python Data Types\n",
        "<br>**str** : string, text\n",
        "<br>**int** : inetger numbers\n",
        "<br>**float** : real numbers, decimal values\n",
        "<br>**bool** : True, False"
      ]
    },
    {
      "cell_type": "code",
      "execution_count": null,
      "metadata": {
        "id": "XGdU-XH9dfj7"
      },
      "outputs": [],
      "source": [
        ""
      ]
    },
    {
      "cell_type": "markdown",
      "metadata": {
        "id": "fAcqDCxXdfj7"
      },
      "source": [
        "### Mathematical operations"
      ]
    },
    {
      "cell_type": "code",
      "execution_count": null,
      "metadata": {
        "id": "TeF6gh_Idfj7"
      },
      "outputs": [],
      "source": [
        ""
      ]
    },
    {
      "cell_type": "markdown",
      "metadata": {
        "id": "WKtCq6ypdfj8"
      },
      "source": [
        "### Comparison Operators"
      ]
    },
    {
      "cell_type": "code",
      "execution_count": null,
      "metadata": {
        "id": "OXsoNmxmdfj8"
      },
      "outputs": [],
      "source": [
        ""
      ]
    }
  ],
  "metadata": {
    "kernelspec": {
      "display_name": "Python 3",
      "language": "python",
      "name": "python3"
    },
    "language_info": {
      "codemirror_mode": {
        "name": "ipython",
        "version": 3
      },
      "file_extension": ".py",
      "mimetype": "text/x-python",
      "name": "python",
      "nbconvert_exporter": "python",
      "pygments_lexer": "ipython3",
      "version": "3.7.6"
    },
    "colab": {
      "name": "Lecture_1.ipynb",
      "provenance": [],
      "include_colab_link": true
    }
  },
  "nbformat": 4,
  "nbformat_minor": 0
}