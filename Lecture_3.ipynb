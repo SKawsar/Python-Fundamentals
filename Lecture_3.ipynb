{
  "nbformat": 4,
  "nbformat_minor": 0,
  "metadata": {
    "colab": {
      "name": "Lecture_3.ipynb",
      "provenance": [],
      "collapsed_sections": [],
      "authorship_tag": "ABX9TyOVAqOYdwll/YXKCrf1jMME",
      "include_colab_link": true
    },
    "kernelspec": {
      "name": "python3",
      "display_name": "Python 3"
    },
    "language_info": {
      "name": "python"
    }
  },
  "cells": [
    {
      "cell_type": "markdown",
      "metadata": {
        "id": "view-in-github",
        "colab_type": "text"
      },
      "source": [
        "<a href=\"https://colab.research.google.com/github/SKawsar/Python_Fundamentals_s2/blob/main/Lecture_3.ipynb\" target=\"_parent\"><img src=\"https://colab.research.google.com/assets/colab-badge.svg\" alt=\"Open In Colab\"/></a>"
      ]
    },
    {
      "cell_type": "markdown",
      "source": [
        "# Lecture 03: Python Data Types and conditional Programming\n",
        "Instructor:\n",
        "Md Shahidullah Kawsar,\n",
        "Data Scientist, IDARE, Houston, TX, USA\n",
        "\n",
        "#### Objectives:\n",
        "1. Learn about Python data types, Mathematical Operations, Comparison Operators, Logical Operators, and Membership Operators\n",
        "2. Learn string manipulation\n",
        "\n",
        "#### References:\n",
        "1. Python - Basic Operators: https://www.tutorialspoint.com/python/python_basic_operators.html\n"
      ],
      "metadata": {
        "id": "RPo9iWFO2nEn"
      }
    },
    {
      "cell_type": "markdown",
      "source": [
        "**str** : string, text\n",
        "<br>**int** : inetger numbers\n",
        "<br>**float** : real numbers, decimal values\n",
        "<br>**bool** : True, False"
      ],
      "metadata": {
        "id": "pbtfPN7o3NxN"
      }
    },
    {
      "cell_type": "code",
      "source": [
        ""
      ],
      "metadata": {
        "id": "tYkP-3Ak3SVx"
      },
      "execution_count": null,
      "outputs": []
    },
    {
      "cell_type": "markdown",
      "source": [
        "#### Mathematical Operations"
      ],
      "metadata": {
        "id": "VXFfTU4z3pIV"
      }
    },
    {
      "cell_type": "code",
      "source": [
        ""
      ],
      "metadata": {
        "id": "sHlbJ7zq3rPX"
      },
      "execution_count": null,
      "outputs": []
    },
    {
      "cell_type": "code",
      "source": [
        ""
      ],
      "metadata": {
        "id": "9OyLeyrT3rxN"
      },
      "execution_count": null,
      "outputs": []
    },
    {
      "cell_type": "markdown",
      "source": [
        "#### Comparison Operators"
      ],
      "metadata": {
        "id": "JqykIP3X3sPO"
      }
    },
    {
      "cell_type": "code",
      "source": [
        ""
      ],
      "metadata": {
        "id": "DCKnf-s43vUe"
      },
      "execution_count": null,
      "outputs": []
    },
    {
      "cell_type": "markdown",
      "source": [
        "#### Logical operators"
      ],
      "metadata": {
        "id": "Ir6PPHIm3wF6"
      }
    },
    {
      "cell_type": "code",
      "source": [
        ""
      ],
      "metadata": {
        "id": "2E0-Cuih31yh"
      },
      "execution_count": null,
      "outputs": []
    },
    {
      "cell_type": "markdown",
      "source": [
        "#### Membership operators"
      ],
      "metadata": {
        "id": "PT3epyIy32N3"
      }
    },
    {
      "cell_type": "code",
      "source": [
        ""
      ],
      "metadata": {
        "id": "Qnc3tGJQ36S1"
      },
      "execution_count": null,
      "outputs": []
    },
    {
      "cell_type": "markdown",
      "source": [
        "#### String Manipulation\n",
        "1. How to capitalize the first character of a string?"
      ],
      "metadata": {
        "id": "KOp4aqNez1YL"
      }
    },
    {
      "cell_type": "code",
      "source": [
        ""
      ],
      "metadata": {
        "id": "N3JF3EVHzxqz"
      },
      "execution_count": null,
      "outputs": []
    },
    {
      "cell_type": "markdown",
      "source": [
        "2. How to find the frequency of the substring in a string?"
      ],
      "metadata": {
        "id": "gYcrwKZW0iu8"
      }
    },
    {
      "cell_type": "code",
      "source": [
        ""
      ],
      "metadata": {
        "id": "t0wn6ZNRzxxP"
      },
      "execution_count": null,
      "outputs": []
    },
    {
      "cell_type": "markdown",
      "source": [
        "\n",
        "3. How to find if a string starts or ends with a specific substring?"
      ],
      "metadata": {
        "id": "Q2STTCkO0k-L"
      }
    },
    {
      "cell_type": "code",
      "source": [
        ""
      ],
      "metadata": {
        "id": "_WnxOORvzyKE"
      },
      "execution_count": null,
      "outputs": []
    },
    {
      "cell_type": "markdown",
      "source": [
        "\n",
        "4. How to find the index of a specific character in a string?"
      ],
      "metadata": {
        "id": "N1ko6f9u0qXA"
      }
    },
    {
      "cell_type": "code",
      "source": [
        ""
      ],
      "metadata": {
        "id": "F2jQZws9zyNF"
      },
      "execution_count": null,
      "outputs": []
    },
    {
      "cell_type": "markdown",
      "source": [
        "\n",
        "5. How to convert a string into lower case and upper case characters?\n"
      ],
      "metadata": {
        "id": "VWIn_WJp0s0R"
      }
    },
    {
      "cell_type": "code",
      "source": [
        ""
      ],
      "metadata": {
        "id": "5GY9xut-zyRD"
      },
      "execution_count": null,
      "outputs": []
    },
    {
      "cell_type": "markdown",
      "source": [
        "\n",
        "6. How to remove spaces from a string?"
      ],
      "metadata": {
        "id": "OoyvIzgX0xgK"
      }
    },
    {
      "cell_type": "code",
      "source": [
        ""
      ],
      "metadata": {
        "id": "oRxmJdYqzyTo"
      },
      "execution_count": null,
      "outputs": []
    },
    {
      "cell_type": "markdown",
      "source": [
        "\n",
        "7. How to replace a substring inside a string?\n"
      ],
      "metadata": {
        "id": "2nv15dSl0z1B"
      }
    },
    {
      "cell_type": "code",
      "source": [
        ""
      ],
      "metadata": {
        "id": "685H-nkkzyV8"
      },
      "execution_count": null,
      "outputs": []
    },
    {
      "cell_type": "markdown",
      "source": [
        "\n",
        "8. How to find the presence of an alphanumeric character, alphabet or digit?"
      ],
      "metadata": {
        "id": "PRL4pSo402h9"
      }
    },
    {
      "cell_type": "code",
      "source": [
        ""
      ],
      "metadata": {
        "id": "8qsLA0ee04oR"
      },
      "execution_count": null,
      "outputs": []
    },
    {
      "cell_type": "markdown",
      "source": [
        "#### String slicing"
      ],
      "metadata": {
        "id": "OYnKrQBh0dIY"
      }
    },
    {
      "cell_type": "code",
      "source": [
        ""
      ],
      "metadata": {
        "id": "FQMGLSnQ0et8"
      },
      "execution_count": null,
      "outputs": []
    }
  ]
}