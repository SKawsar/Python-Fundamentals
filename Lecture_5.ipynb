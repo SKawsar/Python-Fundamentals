{
 "cells": [
  {
   "cell_type": "markdown",
   "metadata": {},
   "source": [
    "# Lecture 05: Conditional logic, loop and writing functions in Python\n",
    "\n",
    "Instructor:\n",
    "<br>**Md Shahidullah Kawsar**\n",
    "<br>Data Scientist\n",
    "<br>IDARE, Houston, TX, USA\n",
    "\n",
    "#### Objectives:\n",
    "1. How to write if-else, while and for loop in Python\n",
    "2. Writing functions in Python\n",
    "3. LeetCode problems\n",
    "\n",
    "\n",
    "#### References: \n",
    "1. https://leetcode.com/problems/defanging-an-ip-address/\n",
    "2. https://leetcode.com/problems/goal-parser-interpretation/\n",
    "3. https://leetcode.com/problems/check-if-two-string-arrays-are-equivalent/\n",
    "\n",
    "HW 2:\n",
    "1. https://leetcode.com/problems/maximum-product-of-three-numbers/\n",
    "2. https://leetcode.com/problems/richest-customer-wealth/\n",
    "3. https://leetcode.com/problems/shuffle-the-array/\n",
    "4. https://leetcode.com/problems/valid-perfect-square/"
   ]
  },
  {
   "cell_type": "markdown",
   "metadata": {},
   "source": [
    "#### Example: for loop"
   ]
  },
  {
   "cell_type": "code",
   "execution_count": null,
   "metadata": {},
   "outputs": [],
   "source": []
  },
  {
   "cell_type": "markdown",
   "metadata": {},
   "source": [
    "#### Writing Functions"
   ]
  },
  {
   "cell_type": "code",
   "execution_count": null,
   "metadata": {},
   "outputs": [],
   "source": []
  },
  {
   "cell_type": "code",
   "execution_count": null,
   "metadata": {},
   "outputs": [],
   "source": []
  },
  {
   "cell_type": "code",
   "execution_count": null,
   "metadata": {},
   "outputs": [],
   "source": []
  },
  {
   "cell_type": "code",
   "execution_count": null,
   "metadata": {},
   "outputs": [],
   "source": []
  },
  {
   "cell_type": "code",
   "execution_count": null,
   "metadata": {},
   "outputs": [],
   "source": []
  },
  {
   "cell_type": "code",
   "execution_count": null,
   "metadata": {},
   "outputs": [],
   "source": []
  },
  {
   "cell_type": "code",
   "execution_count": null,
   "metadata": {},
   "outputs": [],
   "source": []
  },
  {
   "cell_type": "markdown",
   "metadata": {},
   "source": [
    "#### Even or odd: if-else condition checking"
   ]
  },
  {
   "cell_type": "code",
   "execution_count": null,
   "metadata": {},
   "outputs": [],
   "source": []
  },
  {
   "cell_type": "markdown",
   "metadata": {},
   "source": [
    "#### Example of while condition"
   ]
  },
  {
   "cell_type": "code",
   "execution_count": null,
   "metadata": {},
   "outputs": [],
   "source": []
  },
  {
   "cell_type": "markdown",
   "metadata": {},
   "source": [
    "#### LeetCode Problem 01: Defanging an IP Address\n",
    "\n",
    "Given a valid (IPv4) IP address, return a defanged version of that IP address.\n",
    "\n",
    "A defanged IP address replaces every period \".\" with \"[.]\"\n",
    "\n",
    "**Example 1:**\n",
    "<br>Input: address = \"1.1.1.1\"\n",
    "<br>Output: \"1[.]1[.]1[.]1\"\n",
    "\n",
    "**Example 2:**\n",
    "<br>Input: address = \"255.100.50.0\"\n",
    "<br>Output: \"255[.]100[.]50[.]0\""
   ]
  },
  {
   "cell_type": "code",
   "execution_count": null,
   "metadata": {},
   "outputs": [],
   "source": []
  },
  {
   "cell_type": "markdown",
   "metadata": {},
   "source": [
    "#### LeetCode Problem 02: Goal Parser Interpretation\n",
    "\n",
    "You own a Goal Parser that can interpret a string command. The command consists of an alphabet of \"G\", \"()\" and/or \"(al)\" in some order. The Goal Parser will interpret \"G\" as the string \"G\", \"()\" as the string \"o\", and \"(al)\" as the string \"al\". The interpreted strings are then concatenated in the original order.\n",
    "\n",
    "Given the string command, return the Goal Parser's interpretation of command.\n",
    "\n",
    "**Example 1:**\n",
    "<br>Input: command = \"G()(al)\"\n",
    "<br>Output: \"Goal\"\n",
    "Explanation: The Goal Parser interprets the command as follows:\n",
    "G -> G\n",
    "() -> o\n",
    "(al) -> al\n",
    "The final concatenated result is \"Goal\".\n",
    "\n",
    "**Example 2:**\n",
    "<br>Input: command = \"G()()()()(al)\"\n",
    "<br>Output: \"Gooooal\"\n",
    "\n",
    "**Example 3:**\n",
    "<br>Input: command = \"(al)G(al)()()G\"\n",
    "<br>Output: \"alGalooG\""
   ]
  },
  {
   "cell_type": "code",
   "execution_count": null,
   "metadata": {},
   "outputs": [],
   "source": []
  },
  {
   "cell_type": "markdown",
   "metadata": {},
   "source": [
    "#### LeetCode Problem 03: Check If Two String Arrays are Equivalent\n",
    "Given two string arrays word1 and word2, return true if the two arrays represent the same string, and false otherwise.\n",
    "\n",
    "A string is represented by an array if the array elements concatenated in order forms the string.\n",
    "\n",
    "**Example 1:**\n",
    "<br>Input: word1 = [\"ab\", \"c\"], word2 = [\"a\", \"bc\"]\n",
    "<br>Output: true\n",
    "<br>Explanation:\n",
    "<br>word1 represents string \"ab\" + \"c\" -> \"abc\"\n",
    "<br>word2 represents string \"a\" + \"bc\" -> \"abc\"\n",
    "<br>The strings are the same, so return true.\n",
    "\n",
    "**Example 2:**\n",
    "<br>Input: word1 = [\"a\", \"cb\"], word2 = [\"ab\", \"c\"]\n",
    "<br>Output: false\n",
    "\n",
    "**Example 3:**\n",
    "<br>Input: word1  = [\"abc\", \"d\", \"defg\"], word2 = [\"abcddefg\"]\n",
    "<br>Output: true"
   ]
  },
  {
   "cell_type": "code",
   "execution_count": null,
   "metadata": {},
   "outputs": [],
   "source": []
  },
  {
   "cell_type": "code",
   "execution_count": null,
   "metadata": {},
   "outputs": [],
   "source": []
  }
 ],
 "metadata": {
  "kernelspec": {
   "display_name": "Python 3",
   "language": "python",
   "name": "python3"
  },
  "language_info": {
   "codemirror_mode": {
    "name": "ipython",
    "version": 3
   },
   "file_extension": ".py",
   "mimetype": "text/x-python",
   "name": "python",
   "nbconvert_exporter": "python",
   "pygments_lexer": "ipython3",
   "version": "3.8.5"
  }
 },
 "nbformat": 4,
 "nbformat_minor": 4
}
