{
 "cells": [
  {
   "cell_type": "markdown",
   "metadata": {},
   "source": [
    "# Lecture 6: LeetCode Problems\n",
    "\n",
    "Instructor:\n",
    "<br>**Md Shahidullah Kawsar**\n",
    "<br>Data Scientist\n",
    "<br>IDARE, Houston, TX, USA\n",
    "\n",
    "#### Objectives:\n",
    "1. Math functions\n",
    "2. Application of list, set, and dictionary\n",
    "3. Solving same problem in multiple ways\n",
    "4. HW 2 solution\n",
    "\n",
    "#### References\n",
    "HW 2: 1. https://leetcode.com/problems/maximum-product-of-three-numbers/\n",
    "<br>HW 2: 2. https://leetcode.com/problems/richest-customer-wealth/\n",
    "<br>HW 2: 3. https://leetcode.com/problems/shuffle-the-array/\n",
    "<br>HW 2: 4. https://leetcode.com/problems/valid-perfect-square/\n",
    "<br>5. https://leetcode.com/problems/power-of-two/\n",
    "<br>6. https://leetcode.com/problems/contains-duplicate/\n",
    "<br>7. https://leetcode.com/problems/two-sum/submissions/\n",
    "<br>Self Study: 8. https://leetcode.com/problems/roman-to-integer/\n",
    "<br>Self Study: 9. https://leetcode.com/problems/unique-morse-code-words/\n"
   ]
  },
  {
   "cell_type": "markdown",
   "metadata": {},
   "source": [
    "**HW2 Problem 1: Maximum Product of Three Numbers**\n",
    "\n",
    "Given an integer array nums, find three numbers whose product is maximum and return the maximum product.\n",
    "\n",
    "**Example 1:**\n",
    "<br>Input: nums = [1,2,3]\n",
    "<br>Output: 6\n",
    "\n",
    "**Example 2:**\n",
    "<br>Input: nums = [1,2,3,4]\n",
    "<br>Output: 24\n",
    "\n",
    "**Example 3:**\n",
    "<br>Input: nums = [-1,-2,-3]\n",
    "<br>Output: -6"
   ]
  },
  {
   "cell_type": "code",
   "execution_count": null,
   "metadata": {},
   "outputs": [],
   "source": []
  },
  {
   "cell_type": "code",
   "execution_count": null,
   "metadata": {},
   "outputs": [],
   "source": []
  },
  {
   "cell_type": "markdown",
   "metadata": {},
   "source": [
    "**HW2 Problem 2: 1672. Richest Customer Wealth**\n",
    "\n",
    "You are given an m x n integer grid accounts where accounts[i][j] is the amount of money the i-th customer has in the j-th bank. Return the wealth that the richest customer has.\n",
    "\n",
    "A customer's wealth is the amount of money they have in all their bank accounts. The richest customer is the customer that has the maximum wealth.\n",
    "\n",
    "**Example 1:**\n",
    "<br>Input: accounts = [[1,2,3],[3,2,1]]\n",
    "<br>Output: 6\n",
    "<br>Explanation:\n",
    "<br>1st customer has wealth = 1 + 2 + 3 = 6\n",
    "<br>2nd customer has wealth = 3 + 2 + 1 = 6\n",
    "<br>Both customers are considered the richest with a wealth of 6 each, so return 6.\n",
    "\n",
    "**Example 2:**\n",
    "<br>Input: accounts = [[1,5],[7,3],[3,5]]\n",
    "<br>Output: 10\n",
    "<br>Explanation: \n",
    "<br>1st customer has wealth = 6\n",
    "<br>2nd customer has wealth = 10 \n",
    "<br>3rd customer has wealth = 8\n",
    "<br>The 2nd customer is the richest with a wealth of 10.\n",
    "\n",
    "**Example 3:**\n",
    "<br>Input: accounts = [[2,8,7],[7,1,3],[1,9,5]]\n",
    "<br>Output: 17"
   ]
  },
  {
   "cell_type": "code",
   "execution_count": null,
   "metadata": {},
   "outputs": [],
   "source": []
  },
  {
   "cell_type": "code",
   "execution_count": null,
   "metadata": {},
   "outputs": [],
   "source": []
  },
  {
   "cell_type": "markdown",
   "metadata": {},
   "source": [
    "**HW2 Problem 3: Shuffle the Array**\n",
    "\n",
    "Given the array nums consisting of 2n elements in the form [x_1,x_2,...,x_n,y_1,y_2,...,y_n].\n",
    "\n",
    "Return the array in the form [x_1,y_1,x_2,y_2,...,x_n,y_n].\n",
    "\n",
    "**Example 1:**\n",
    "<br>Input: nums = [2,5,1,3,4,7], n = 3\n",
    "<br>Output: [2,3,5,4,1,7] \n",
    "<br>Explanation: Since x1=2, x2=5, x3=1, y1=3, y2=4, y3=7 then the answer is [2,3,5,4,1,7].\n",
    "\n",
    "**Example 2:**\n",
    "<br>Input: nums = [1,2,3,4,4,3,2,1], n = 4\n",
    "<br>Output: [1,4,2,3,3,2,4,1]\n",
    "\n",
    "**Example 3:**\n",
    "<br>Input: nums = [1,1,2,2], n = 2\n",
    "<br>Output: [1,2,1,2]"
   ]
  },
  {
   "cell_type": "code",
   "execution_count": null,
   "metadata": {},
   "outputs": [],
   "source": []
  },
  {
   "cell_type": "code",
   "execution_count": null,
   "metadata": {},
   "outputs": [],
   "source": []
  },
  {
   "cell_type": "markdown",
   "metadata": {},
   "source": [
    "**HW2 Problem 4: Valid Perfect Square**\n",
    "\n",
    "Given a positive integer num, write a function which returns True if num is a perfect square else False.\n",
    "\n",
    "**Example 1:**\n",
    "<br>Input: num = 16\n",
    "<br>Output: true\n",
    "\n",
    "**Example 2:**\n",
    "<br>Input: num = 14\n",
    "<br>Output: false"
   ]
  },
  {
   "cell_type": "code",
   "execution_count": null,
   "metadata": {},
   "outputs": [],
   "source": []
  },
  {
   "cell_type": "code",
   "execution_count": null,
   "metadata": {},
   "outputs": [],
   "source": []
  },
  {
   "cell_type": "markdown",
   "metadata": {},
   "source": [
    "**Problem 1: Power of Two**\n",
    "\n",
    "Given an integer n, return true if it is a power of two. Otherwise, return false.\n",
    "\n",
    "An integer n is a power of two, if there exists an integer x such that n == 2^x.\n",
    "\n",
    "**Example 1:**\n",
    "<br>Input: n = 1\n",
    "<br>Output: true\n",
    "<br>Explanation: 2^0 = 1\n",
    "\n",
    "**Example 2:**\n",
    "<br>Input: n = 16\n",
    "<br>Output: true\n",
    "<br>Explanation: 2^4 = 16\n",
    "\n",
    "**Example 3:**\n",
    "<br>Input: n = 3\n",
    "<br>Output: false\n",
    "\n",
    "**Example 4:**\n",
    "<br>Input: n = 4\n",
    "<br>Output: true\n",
    "\n",
    "**Example 5:**\n",
    "<br>Input: n = 5\n",
    "<br>Output: false"
   ]
  },
  {
   "cell_type": "markdown",
   "metadata": {},
   "source": [
    "n == 2^x\n",
    "<br>=> log(n) = log(2^x)\n",
    "<br>=> log(n) = x*log(2)\n",
    "<br>=> x = log(n)/log(2)"
   ]
  },
  {
   "cell_type": "code",
   "execution_count": null,
   "metadata": {},
   "outputs": [],
   "source": []
  },
  {
   "cell_type": "code",
   "execution_count": null,
   "metadata": {},
   "outputs": [],
   "source": []
  },
  {
   "cell_type": "markdown",
   "metadata": {},
   "source": [
    "**Problem 2: Contains Duplicate**\n",
    "\n",
    "Given an integer array nums, return true if any value appears at least twice in the array, and return false if every element is distinct.\n",
    "\n",
    "**Example 1:**\n",
    "<br>Input: nums = [1,2,3,1]\n",
    "<br>Output: true\n",
    "\n",
    "**Example 2:**\n",
    "<br>Input: nums = [1,2,3,4]\n",
    "<br>Output: false\n",
    "\n",
    "**Example 3:**\n",
    "<br>Input: nums = [1,1,1,3,3,4,3,2,4,2]\n",
    "<br>Output: true"
   ]
  },
  {
   "cell_type": "code",
   "execution_count": null,
   "metadata": {},
   "outputs": [],
   "source": []
  },
  {
   "cell_type": "code",
   "execution_count": null,
   "metadata": {},
   "outputs": [],
   "source": []
  },
  {
   "cell_type": "markdown",
   "metadata": {},
   "source": [
    "**Problem 3: Two Sum**\n",
    "\n",
    "Given an array of integers nums and an integer target, return indices of the two numbers such that they add up to target.\n",
    "\n",
    "You may assume that each input would have exactly one solution, and you may not use the same element twice.\n",
    "\n",
    "You can return the answer in any order.\n",
    "\n",
    "**Example 1:**\n",
    "<br>Input: nums = [2,7,11,15], target = 9\n",
    "<br>Output: [0,1]\n",
    "<br>Output: Because nums[0] + nums[1] == 9, we return [0, 1].\n",
    "\n",
    "**Example 2:**\n",
    "<br>Input: nums = [3,2,4], target = 6\n",
    "<br>Output: [1,2]\n",
    "\n",
    "**Example 3:**\n",
    "<br>Input: nums = [3,3], target = 6\n",
    "<br>Output: [0,1]"
   ]
  },
  {
   "cell_type": "code",
   "execution_count": null,
   "metadata": {},
   "outputs": [],
   "source": []
  },
  {
   "cell_type": "code",
   "execution_count": null,
   "metadata": {},
   "outputs": [],
   "source": []
  }
 ],
 "metadata": {
  "kernelspec": {
   "display_name": "Python 3",
   "language": "python",
   "name": "python3"
  },
  "language_info": {
   "codemirror_mode": {
    "name": "ipython",
    "version": 3
   },
   "file_extension": ".py",
   "mimetype": "text/x-python",
   "name": "python",
   "nbconvert_exporter": "python",
   "pygments_lexer": "ipython3",
   "version": "3.8.5"
  }
 },
 "nbformat": 4,
 "nbformat_minor": 4
}
