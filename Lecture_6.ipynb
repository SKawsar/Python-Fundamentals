{
 "cells": [
  {
   "cell_type": "markdown",
   "metadata": {},
   "source": [
    "# Lecture 6: LeetCode Problems\n",
    "\n",
    "Instructor:\n",
    "<br>**Md Shahidullah Kawsar**\n",
    "<br>Data Scientist\n",
    "<br>IDARE, Houston, TX, USA\n",
    "\n",
    "#### Objectives:\n",
    "1. Math functions\n",
    "2. Application of list, set, and dictionary\n",
    "3. Solving same problem in multiple ways\n",
    "4. HW 2 solution\n",
    "\n",
    "#### References\n",
    "HW 2: 1. https://leetcode.com/problems/maximum-product-of-three-numbers/\n",
    "<br>HW 2: 2. https://leetcode.com/problems/richest-customer-wealth/\n",
    "<br>HW 2: 3. https://leetcode.com/problems/shuffle-the-array/\n",
    "<br>HW 2: 4. https://leetcode.com/problems/valid-perfect-square/\n",
    "<br>5. https://leetcode.com/problems/power-of-two/\n",
    "<br>6. https://leetcode.com/problems/contains-duplicate/\n",
    "<br>7. https://leetcode.com/problems/two-sum/submissions/\n",
    "<br>Self Study: 8. https://leetcode.com/problems/roman-to-integer/\n",
    "<br>Self Study: 9. https://leetcode.com/problems/unique-morse-code-words/\n",
    "\n",
    "References:\n",
    "<br>[1] চটপট গণিত- লগ কী : https://www.youtube.com/watch?v=YHqbj5c2OIo&ab_channel=ChamokHasan"
   ]
  },
  {
   "cell_type": "markdown",
   "metadata": {},
   "source": [
    "**HW2 Problem 1: Maximum Product of Three Numbers**\n",
    "\n",
    "Given an integer array nums, find three numbers whose product is maximum and return the maximum product.\n",
    "\n",
    "**Example 1:**\n",
    "<br>Input: nums = [1,2,3]\n",
    "<br>Output: 6\n",
    "\n",
    "**Example 2:**\n",
    "<br>Input: nums = [1,2,3,4]\n",
    "<br>Output: 24\n",
    "\n",
    "**Example 3:**\n",
    "<br>Input: nums = [-1,-2,-3]\n",
    "<br>Output: -6"
   ]
  },
  {
   "cell_type": "code",
   "execution_count": 9,
   "metadata": {},
   "outputs": [],
   "source": [
    "example = [-1,2,4,4]\n",
    "\n",
    "def maximumProduct(nums):\n",
    "    \n",
    "    nums = sorted(nums)\n",
    "    print(\"sorted nums = \", nums)\n",
    "    \n",
    "    prod_1 = nums[0]*nums[1]*nums[-1]\n",
    "    print(\"prod_1 = \", prod_1)\n",
    "    prod_2 = nums[-1]*nums[-2]*nums[-3]\n",
    "    print(\"prod_2 = \", prod_2)\n",
    "    \n",
    "    return max(prod_1, prod_2)\n",
    "    "
   ]
  },
  {
   "cell_type": "code",
   "execution_count": 10,
   "metadata": {},
   "outputs": [
    {
     "name": "stdout",
     "output_type": "stream",
     "text": [
      "sorted nums =  [1, 2, 3]\n",
      "prod_1 =  6\n",
      "prod_2 =  6\n",
      "6\n",
      "----------------------------------------\n",
      "sorted nums =  [1, 2, 3, 4]\n",
      "prod_1 =  8\n",
      "prod_2 =  24\n",
      "24\n",
      "----------------------------------------\n",
      "sorted nums =  [-4, -2, -1, 1, 2, 6]\n",
      "prod_1 =  48\n",
      "prod_2 =  12\n",
      "48\n"
     ]
    }
   ],
   "source": [
    "p1_example_1 = maximumProduct([1,2,3])\n",
    "print(p1_example_1)\n",
    "print(\"----------------------------------------\")\n",
    "\n",
    "p1_example_2 = maximumProduct([1,2,3,4])\n",
    "print(p1_example_2)\n",
    "print(\"----------------------------------------\")\n",
    "\n",
    "p1_example_3 = maximumProduct([-1,-2,-4,1,2,6])\n",
    "print(p1_example_3)"
   ]
  },
  {
   "cell_type": "markdown",
   "metadata": {},
   "source": [
    "**HW2 Problem 2: 1672. Richest Customer Wealth**\n",
    "\n",
    "You are given an m x n integer grid accounts where accounts[i][j] is the amount of money the i-th customer has in the j-th bank. Return the wealth that the richest customer has.\n",
    "\n",
    "A customer's wealth is the amount of money they have in all their bank accounts. The richest customer is the customer that has the maximum wealth.\n",
    "\n",
    "**Example 1:**\n",
    "<br>Input: accounts = [[1,2,3],[3,2,1]]\n",
    "<br>Output: 6\n",
    "<br>Explanation:\n",
    "<br>1st customer has wealth = 1 + 2 + 3 = 6\n",
    "<br>2nd customer has wealth = 3 + 2 + 1 = 6\n",
    "<br>Both customers are considered the richest with a wealth of 6 each, so return 6.\n",
    "\n",
    "**Example 2:**\n",
    "<br>Input: accounts = [[1,5],[7,3],[3,5]]\n",
    "<br>Output: 10\n",
    "<br>Explanation: \n",
    "<br>1st customer has wealth = 6\n",
    "<br>2nd customer has wealth = 10 \n",
    "<br>3rd customer has wealth = 8\n",
    "<br>The 2nd customer is the richest with a wealth of 10.\n",
    "\n",
    "**Example 3:**\n",
    "<br>Input: accounts = [[2,8,7],[7,1,3],[1,9,5]]\n",
    "<br>Output: 17"
   ]
  },
  {
   "cell_type": "code",
   "execution_count": 11,
   "metadata": {},
   "outputs": [],
   "source": [
    "def maximumWealth(accounts):\n",
    "    \n",
    "    wealth = []\n",
    "    \n",
    "    for element in range(len(accounts)):\n",
    "        \n",
    "        print(accounts[element])\n",
    "        \n",
    "        wealth.append(sum(accounts[element]))\n",
    "        \n",
    "    print(\"wealth = \", wealth)\n",
    "    return max(wealth)\n",
    "        "
   ]
  },
  {
   "cell_type": "code",
   "execution_count": 12,
   "metadata": {},
   "outputs": [
    {
     "name": "stdout",
     "output_type": "stream",
     "text": [
      "[1, 2, 3]\n",
      "[3, 2, 1]\n",
      "wealth =  [6, 6]\n",
      "6\n",
      "----------------------------------------\n",
      "[1, 5]\n",
      "[7, 3]\n",
      "[3, 5]\n",
      "wealth =  [6, 10, 8]\n",
      "10\n",
      "----------------------------------------\n",
      "[2, 8, 7]\n",
      "[7, 1, 3]\n",
      "[1, 9, 5]\n",
      "wealth =  [17, 11, 15]\n",
      "17\n"
     ]
    }
   ],
   "source": [
    "p2_example_1 = maximumWealth([[1,2,3],[3,2,1]])\n",
    "print(p2_example_1)\n",
    "print(\"----------------------------------------\")\n",
    "\n",
    "p2_example_2 = maximumWealth([[1,5],[7,3],[3,5]])\n",
    "print(p2_example_2)\n",
    "print(\"----------------------------------------\")\n",
    "\n",
    "p2_example_3 = maximumWealth([[2,8,7],[7,1,3],[1,9,5]])\n",
    "print(p2_example_3)"
   ]
  },
  {
   "cell_type": "markdown",
   "metadata": {},
   "source": [
    "**HW2 Problem 3: Shuffle the Array**\n",
    "\n",
    "Given the array nums consisting of 2n elements in the form [x_1,x_2,...,x_n,y_1,y_2,...,y_n].\n",
    "\n",
    "Return the array in the form [x_1,y_1,x_2,y_2,...,x_n,y_n].\n",
    "\n",
    "**Example 1:**\n",
    "<br>Input: nums = [2,5,1,3,4,7], n = 3\n",
    "<br>Output: [2,3,5,4,1,7] \n",
    "<br>Explanation: Since x1=2, x2=5, x3=1, y1=3, y2=4, y3=7 then the answer is [2,3,5,4,1,7].\n",
    "\n",
    "**Example 2:**\n",
    "<br>Input: nums = [1,2,3,4,4,3,2,1], n = 4\n",
    "<br>Output: [1,4,2,3,3,2,4,1]\n",
    "\n",
    "**Example 3:**\n",
    "<br>Input: nums = [1,1,2,2], n = 2\n",
    "<br>Output: [1,2,1,2]"
   ]
  },
  {
   "cell_type": "code",
   "execution_count": 13,
   "metadata": {},
   "outputs": [],
   "source": [
    "def shuffle(nums, n):\n",
    "    \n",
    "    first_half = nums[:n]\n",
    "    last_half = nums[n:]\n",
    "    \n",
    "    shuffle = []\n",
    "    \n",
    "    for i in range(n):\n",
    "        shuffle.append(first_half[i])\n",
    "        \n",
    "        print(\"after adding first half = \", shuffle)\n",
    "        \n",
    "        shuffle.append(last_half[i])\n",
    "        \n",
    "        print(\"after adding last half = \", shuffle)\n",
    "        \n",
    "    return shuffle\n",
    "    "
   ]
  },
  {
   "cell_type": "code",
   "execution_count": 14,
   "metadata": {},
   "outputs": [
    {
     "name": "stdout",
     "output_type": "stream",
     "text": [
      "after adding first half =  [2]\n",
      "after adding last half =  [2, 3]\n",
      "after adding first half =  [2, 3, 5]\n",
      "after adding last half =  [2, 3, 5, 4]\n",
      "after adding first half =  [2, 3, 5, 4, 1]\n",
      "after adding last half =  [2, 3, 5, 4, 1, 7]\n",
      "[2, 3, 5, 4, 1, 7]\n",
      "----------------------------------------\n",
      "after adding first half =  [1]\n",
      "after adding last half =  [1, 4]\n",
      "after adding first half =  [1, 4, 2]\n",
      "after adding last half =  [1, 4, 2, 3]\n",
      "after adding first half =  [1, 4, 2, 3, 3]\n",
      "after adding last half =  [1, 4, 2, 3, 3, 2]\n",
      "after adding first half =  [1, 4, 2, 3, 3, 2, 4]\n",
      "after adding last half =  [1, 4, 2, 3, 3, 2, 4, 1]\n",
      "[1, 4, 2, 3, 3, 2, 4, 1]\n",
      "----------------------------------------\n",
      "after adding first half =  [1]\n",
      "after adding last half =  [1, 2]\n",
      "after adding first half =  [1, 2, 1]\n",
      "after adding last half =  [1, 2, 1, 2]\n",
      "[1, 2, 1, 2]\n"
     ]
    }
   ],
   "source": [
    "p3_example_1 = shuffle([2,5,1,3,4,7], 3)\n",
    "print(p3_example_1)\n",
    "print(\"----------------------------------------\")\n",
    "\n",
    "p3_example_2 = shuffle([1,2,3,4,4,3,2,1], 4)\n",
    "print(p3_example_2)\n",
    "print(\"----------------------------------------\")\n",
    "\n",
    "p3_example_3 = shuffle([1,1,2,2], 2)\n",
    "print(p3_example_3)"
   ]
  },
  {
   "cell_type": "markdown",
   "metadata": {},
   "source": [
    "**HW2 Problem 4: Valid Perfect Square**\n",
    "\n",
    "Given a positive integer num, write a function which returns True if num is a perfect square else False.\n",
    "\n",
    "**Example 1:**\n",
    "<br>Input: num = 16\n",
    "<br>Output: true\n",
    "\n",
    "**Example 2:**\n",
    "<br>Input: num = 14\n",
    "<br>Output: false"
   ]
  },
  {
   "cell_type": "code",
   "execution_count": 15,
   "metadata": {},
   "outputs": [],
   "source": [
    "def isPerfectSquare(num):\n",
    "    \n",
    "    print(\"square root = \", num**0.5)\n",
    "    \n",
    "    print(\"square root (integer part only) = \", int(num**0.5))\n",
    "    \n",
    "    return int(num**0.5) == num**0.5\n"
   ]
  },
  {
   "cell_type": "code",
   "execution_count": 16,
   "metadata": {},
   "outputs": [
    {
     "name": "stdout",
     "output_type": "stream",
     "text": [
      "square root =  3.7416573867739413\n",
      "square root (integer part only) =  3\n",
      "False\n",
      "----------------------------------------\n",
      "square root =  4.0\n",
      "square root (integer part only) =  4\n",
      "True\n"
     ]
    }
   ],
   "source": [
    "p4_example_1 = isPerfectSquare(14)\n",
    "print(p4_example_1)\n",
    "print(\"----------------------------------------\")\n",
    "\n",
    "p4_example_2 = isPerfectSquare(16)\n",
    "print(p4_example_2)"
   ]
  },
  {
   "cell_type": "markdown",
   "metadata": {},
   "source": [
    "**Problem 1: Power of Two**\n",
    "\n",
    "Given an integer n, return true if it is a power of two. Otherwise, return false.\n",
    "\n",
    "An integer n is a power of two, if there exists an integer x such that n == 2^x.\n",
    "\n",
    "**Example 1:**\n",
    "<br>Input: n = 1\n",
    "<br>Output: true\n",
    "<br>Explanation: 2^0 = 1\n",
    "\n",
    "**Example 2:**\n",
    "<br>Input: n = 16\n",
    "<br>Output: true\n",
    "<br>Explanation: 2^4 = 16\n",
    "\n",
    "**Example 3:**\n",
    "<br>Input: n = 3\n",
    "<br>Output: false\n",
    "\n",
    "**Example 4:**\n",
    "<br>Input: n = 4\n",
    "<br>Output: true\n",
    "\n",
    "**Example 5:**\n",
    "<br>Input: n = 5\n",
    "<br>Output: false"
   ]
  },
  {
   "cell_type": "markdown",
   "metadata": {},
   "source": [
    "n == 2^x\n",
    "<br>=> log(n) = log(2^x)\n",
    "<br>=> log(n) = x*log(2)\n",
    "<br>=> x = log(n)/log(2)"
   ]
  },
  {
   "cell_type": "code",
   "execution_count": 17,
   "metadata": {},
   "outputs": [],
   "source": [
    "import math\n",
    "\n",
    "def isPowerOfTwo(n):\n",
    "\n",
    "    if n <= 0:\n",
    "        return False\n",
    "\n",
    "    x = math.log10(n)/math.log10(2)\n",
    "    return n == 2**int(x)"
   ]
  },
  {
   "cell_type": "code",
   "execution_count": 18,
   "metadata": {},
   "outputs": [
    {
     "name": "stdout",
     "output_type": "stream",
     "text": [
      "True\n",
      "-----------------------------\n",
      "True\n",
      "-----------------------------\n",
      "False\n",
      "-----------------------------\n",
      "True\n",
      "-----------------------------\n",
      "False\n"
     ]
    }
   ],
   "source": [
    "p1_example_1 = isPowerOfTwo(1)\n",
    "print(p1_example_1)\n",
    "\n",
    "print(\"-----------------------------\")\n",
    "\n",
    "p1_example_2 = isPowerOfTwo(16)\n",
    "print(p1_example_2)\n",
    "\n",
    "print(\"-----------------------------\")\n",
    "\n",
    "p1_example_3 = isPowerOfTwo(3)\n",
    "print(p1_example_3)\n",
    "\n",
    "print(\"-----------------------------\")\n",
    "\n",
    "p1_example_4 = isPowerOfTwo(4)\n",
    "print(p1_example_4)\n",
    "\n",
    "print(\"-----------------------------\")\n",
    "\n",
    "p1_example_5 = isPowerOfTwo(5)\n",
    "print(p1_example_5)"
   ]
  },
  {
   "cell_type": "markdown",
   "metadata": {},
   "source": [
    "**Problem 2: Contains Duplicate**\n",
    "\n",
    "Given an integer array nums, return true if any value appears at least twice in the array, and return false if every element is distinct.\n",
    "\n",
    "**Example 1:**\n",
    "<br>Input: nums = [1,2,3,1]\n",
    "<br>Output: true\n",
    "\n",
    "**Example 2:**\n",
    "<br>Input: nums = [1,2,3,4]\n",
    "<br>Output: false\n",
    "\n",
    "**Example 3:**\n",
    "<br>Input: nums = [1,1,1,3,3,4,3,2,4,2]\n",
    "<br>Output: true"
   ]
  },
  {
   "cell_type": "code",
   "execution_count": 19,
   "metadata": {},
   "outputs": [],
   "source": [
    "def containsDuplicate(nums):\n",
    "\n",
    "    # solution 1\n",
    "    return len(nums) != len(set(nums))"
   ]
  },
  {
   "cell_type": "code",
   "execution_count": 20,
   "metadata": {},
   "outputs": [
    {
     "name": "stdout",
     "output_type": "stream",
     "text": [
      "True\n",
      "-----------------------------\n",
      "False\n",
      "-----------------------------\n",
      "True\n"
     ]
    }
   ],
   "source": [
    "p2_example_1 = containsDuplicate([1,2,3,1])\n",
    "print(p2_example_1)\n",
    "\n",
    "print(\"-----------------------------\")\n",
    "\n",
    "p2_example_2 = containsDuplicate([1,2,3,4])\n",
    "print(p2_example_2)\n",
    "\n",
    "print(\"-----------------------------\")\n",
    "\n",
    "p2_example_3 = containsDuplicate([1,1,1,3,3,4,3,2,4,2])\n",
    "print(p2_example_3)"
   ]
  },
  {
   "cell_type": "markdown",
   "metadata": {},
   "source": [
    "**Problem 3: Two Sum**\n",
    "\n",
    "Given an array of integers nums and an integer target, return indices of the two numbers such that they add up to target.\n",
    "\n",
    "You may assume that each input would have exactly one solution, and you may not use the same element twice.\n",
    "\n",
    "You can return the answer in any order.\n",
    "\n",
    "**Example 1:**\n",
    "<br>Input: nums = [2,7,11,15], target = 9\n",
    "<br>Output: [0,1]\n",
    "<br>Output: Because nums[0] + nums[1] == 9, we return [0, 1].\n",
    "\n",
    "**Example 2:**\n",
    "<br>Input: nums = [3,2,4], target = 6\n",
    "<br>Output: [1,2]\n",
    "\n",
    "**Example 3:**\n",
    "<br>Input: nums = [3,3], target = 6\n",
    "<br>Output: [0,1]"
   ]
  },
  {
   "cell_type": "code",
   "execution_count": 21,
   "metadata": {},
   "outputs": [],
   "source": [
    "def twoSum(nums, target):\n",
    "\n",
    "    val_index_dict = {}\n",
    "\n",
    "    for index in range(0, len(nums)):\n",
    "        goal = target - nums[index]\n",
    "        print(\"item = \", nums[index], \"goal = \", goal)\n",
    "\n",
    "        if(goal in val_index_dict):\n",
    "            return [val_index_dict[goal], index]\n",
    "\n",
    "        val_index_dict[nums[index]] = index\n",
    "        print(\"dictionary = \", val_index_dict)"
   ]
  },
  {
   "cell_type": "code",
   "execution_count": 22,
   "metadata": {},
   "outputs": [
    {
     "name": "stdout",
     "output_type": "stream",
     "text": [
      "item =  2 goal =  7\n",
      "dictionary =  {2: 0}\n",
      "item =  7 goal =  2\n",
      "[0, 1]\n",
      "-----------------------------\n",
      "item =  3 goal =  3\n",
      "dictionary =  {3: 0}\n",
      "item =  2 goal =  4\n",
      "dictionary =  {3: 0, 2: 1}\n",
      "item =  4 goal =  2\n",
      "[1, 2]\n",
      "-----------------------------\n",
      "item =  3 goal =  3\n",
      "dictionary =  {3: 0}\n",
      "item =  3 goal =  3\n",
      "[0, 1]\n"
     ]
    }
   ],
   "source": [
    "p3_example_1 = twoSum([2,7,11,15], 9)\n",
    "print(p3_example_1)\n",
    "\n",
    "print(\"-----------------------------\")\n",
    "\n",
    "p3_example_2 = twoSum([3,2,4], 6)\n",
    "print(p3_example_2)\n",
    "\n",
    "print(\"-----------------------------\")\n",
    "\n",
    "p3_example_3 = twoSum([3,3], 6)\n",
    "print(p3_example_3)"
   ]
  },
  {
   "cell_type": "code",
   "execution_count": null,
   "metadata": {},
   "outputs": [],
   "source": []
  }
 ],
 "metadata": {
  "kernelspec": {
   "display_name": "Python 3",
   "language": "python",
   "name": "python3"
  },
  "language_info": {
   "codemirror_mode": {
    "name": "ipython",
    "version": 3
   },
   "file_extension": ".py",
   "mimetype": "text/x-python",
   "name": "python",
   "nbconvert_exporter": "python",
   "pygments_lexer": "ipython3",
   "version": "3.8.5"
  }
 },
 "nbformat": 4,
 "nbformat_minor": 4
}
