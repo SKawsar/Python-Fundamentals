{
  "cells": [
    {
      "cell_type": "markdown",
      "metadata": {
        "id": "view-in-github",
        "colab_type": "text"
      },
      "source": [
        "<a href=\"https://colab.research.google.com/github/SKawsar/Python_Fundamentals_s2/blob/main/Lecture_8.ipynb\" target=\"_parent\"><img src=\"https://colab.research.google.com/assets/colab-badge.svg\" alt=\"Open In Colab\"/></a>"
      ]
    },
    {
      "cell_type": "markdown",
      "metadata": {
        "id": "R6HdMsZPW1uC"
      },
      "source": [
        "# Lecture 08: Data Analysis in Python: Pandas\n",
        "\n",
        "Instructor:\n",
        "<br>**Md Shahidullah Kawsar**\n",
        "<br>Data Scientist\n",
        "<br>IDARE, Houston, TX, USA\n",
        "\n",
        "Details about Kawsar :) \n",
        "If you are interested to find me on Linkedin, here's my profile link: https://www.linkedin.com/in/mdshahidullahkawsar/\n",
        "Please include a message with the connection request: \"I am your student at Python Fundamentals course\"\n",
        "It will help me to recognize you. Besides, I encourage you to connect with your classmates and don't forget to include a text message with the connection request.\n",
        "\n",
        "Here are my additional profile links if you are interested to visit:\n",
        "<br>Datacamp Profile: https://www.datacamp.com/profile/mdshahidullahkawsar\n",
        "<br>Github Profile: https://github.com/SKawsar \n",
        "<br>Medium profile: https://kawsar34.medium.com/\n",
        "<br>Tableau profile: https://public.tableau.com/profile/kawsar\n",
        "<br>Instagram: @tasnimandkawsar\n",
        "\n",
        "# What's Next?\n",
        "1. Udemy: LeetCode In Python: 50 Algorithms Coding Interview Questions: https://www.udemy.com/share/102Kpi3@Jsrgad5rUToBCj4VA34b0aUmfa4AKB_Ct59lEHzAYhYSBBrMuxAqQrTMwpFb5146/\n",
        "2. datacamp.com\n",
        "\n",
        "\n",
        "#### Objectives:\n",
        "1. How to look at the data?\n",
        "2. Good data or bad data?\n",
        "3. Data Statistics\n",
        "\n",
        "### What is customer churn?\n",
        "Source: DataCamp and Mark Peterson\n",
        "\n",
        "When an existing customer, user, player, subscriber or any kind of return client stops doing business or ends the relationship with a company is called customer churn.\n",
        "\n",
        "**Contractual churn:** When a customer is under contract for a service and decides to cancel their service. Example: Cable TV, SaaS products (Software as a Service e.g. Dropbox).\n",
        "\n",
        "**Voluntary churn:** When a user voluntarily cancels a service and includes prepaid cell phones, streaming subscriptions.\n",
        "\n",
        "**Non-contractual churn:** When a customer is not under contract for a service and includes customer loyality at a retail location or online browsing. \n",
        "\n",
        "**Involuntary churn:** When a churn occurs not at the request of the customer. For example: credit card expiration, utilities being shut off by the provider.\n",
        "\n",
        "Most likely, you as a customer have cancelled a service for a variety of reasons including lack of usage, poor service or better price. \n",
        "\n",
        "Dataset: cellular usage dataset that consists of records of actual cell phone that include specific features such as\n",
        "\n",
        "1. **Account_Length**: the number of days the customer has the subscription with the telecom company\n",
        "\n",
        "2. **Vmail_Message**: the total number of voicemails the customer has sent\n",
        "\n",
        "3. **Total_mins**: the total number of minutes the customer has talked over the phone\n",
        "\n",
        "4. **CustServ_Calls**: the number of customer service calls the customer made\n",
        "\n",
        "5. **Churn**: yes and no - indicating whether or not the customer has churned\n",
        "\n",
        "6. **Intl_Plan**: yes and no - indicating whether or not the customer has international plan or not\n",
        "\n",
        "7. **Vmail_Plan**: yes and no - indicating whether or not the customer has voicemail plan or not\n",
        "\n",
        "8. **Total_calls**: the total number of calls the customer has made\n",
        "\n",
        "9. **Total_charges**: the total amount of bill in $ the customer has paid"
      ]
    },
    {
      "cell_type": "code",
      "execution_count": null,
      "metadata": {
        "id": "1vgb5ZONW1uH"
      },
      "outputs": [],
      "source": [
        ""
      ]
    },
    {
      "cell_type": "code",
      "execution_count": null,
      "metadata": {
        "id": "nS_xZ911W1uI"
      },
      "outputs": [],
      "source": [
        ""
      ]
    },
    {
      "cell_type": "code",
      "execution_count": null,
      "metadata": {
        "id": "if_5GLeHW1uI"
      },
      "outputs": [],
      "source": [
        ""
      ]
    },
    {
      "cell_type": "code",
      "execution_count": null,
      "metadata": {
        "id": "kxrO878aW1uI"
      },
      "outputs": [],
      "source": [
        ""
      ]
    },
    {
      "cell_type": "code",
      "execution_count": null,
      "metadata": {
        "id": "QTn7I7H4W1uJ"
      },
      "outputs": [],
      "source": [
        ""
      ]
    },
    {
      "cell_type": "code",
      "execution_count": null,
      "metadata": {
        "id": "_fHGnbrsW1uJ"
      },
      "outputs": [],
      "source": [
        ""
      ]
    },
    {
      "cell_type": "code",
      "execution_count": null,
      "metadata": {
        "id": "VmlLl48bW1uK"
      },
      "outputs": [],
      "source": [
        ""
      ]
    },
    {
      "cell_type": "code",
      "execution_count": null,
      "metadata": {
        "id": "8AJeec1rW1uK"
      },
      "outputs": [],
      "source": [
        ""
      ]
    },
    {
      "cell_type": "code",
      "execution_count": null,
      "metadata": {
        "id": "WSBJll4cW1uK"
      },
      "outputs": [],
      "source": [
        ""
      ]
    },
    {
      "cell_type": "code",
      "execution_count": null,
      "metadata": {
        "id": "TsGnKRn6W1uL"
      },
      "outputs": [],
      "source": [
        ""
      ]
    },
    {
      "cell_type": "code",
      "execution_count": null,
      "metadata": {
        "id": "JxiZsTxOW1uL"
      },
      "outputs": [],
      "source": [
        ""
      ]
    },
    {
      "cell_type": "markdown",
      "metadata": {
        "id": "fmq1ZxdDW1uL"
      },
      "source": [
        "If you have attended/watched all the class lectures, submitted all the HW, and got the full grade of your HW, you can share a post on LinkedIn. \n",
        "\n",
        "#### Course outcome / LinkedIn Post:\n",
        "\n",
        "I have successfully completed module 1: Python Fundamentals organized by @EMK Center and conducted by @Md Shahidullah Kawsar. This module is a part of Expedition to Data Science and Machine Learning with Python.\n",
        "\n",
        "\n",
        "Number of live classes attended: 8\n",
        "\n",
        "Total time investment: 25 hours in one month\n",
        "\n",
        "In this module, I have learned:\n",
        "1. How to use Anaconda, jupyter notebook, Google Colab, and Github\n",
        "2. if-else if-else condition, while, for loop by playing blockly games: Maze, Bird, Turtle\n",
        "3. Python data types, and Data Structure: List, tuple, dictionary, set\n",
        "4. Mathematical Operations, Comparison Operators, Logical Operators, and Membership Operators\n",
        "5. String manipulation\n",
        "6. Writing functions in Python \n",
        "7. Solved 10 LeetCode problems from multiple perspectives\n",
        "8. math functions and NumPy operations\n",
        "9. Comparison between List and NumPy array\n",
        "10. String, List and NumPy array slicing\n",
        "11. Reading a csv file using Pandas, finding missing values, and data statistics\n",
        "\n",
        "#python #leetcode #datascience #dataanalysis #numpy #pandas"
      ]
    },
    {
      "cell_type": "code",
      "execution_count": null,
      "metadata": {
        "id": "XPz1gZYiW1uM"
      },
      "outputs": [],
      "source": [
        ""
      ]
    }
  ],
  "metadata": {
    "kernelspec": {
      "display_name": "Python 3",
      "language": "python",
      "name": "python3"
    },
    "language_info": {
      "codemirror_mode": {
        "name": "ipython",
        "version": 3
      },
      "file_extension": ".py",
      "mimetype": "text/x-python",
      "name": "python",
      "nbconvert_exporter": "python",
      "pygments_lexer": "ipython3",
      "version": "3.8.5"
    },
    "colab": {
      "name": "Lecture_8.ipynb",
      "provenance": [],
      "include_colab_link": true
    }
  },
  "nbformat": 4,
  "nbformat_minor": 0
}